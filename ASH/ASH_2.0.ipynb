{
 "cells": [
  {
   "cell_type": "markdown",
   "metadata": {},
   "source": [
    "#  Hello from ASH\n",
    "## Antigen Selection Heuristic\n",
    "### {A Bioinformatics Project by Thadryan J. Sweeney}"
   ]
  },
  {
   "cell_type": "markdown",
   "metadata": {},
   "source": [
    "## Why Does ASH Exist?"
   ]
  },
  {
   "cell_type": "markdown",
   "metadata": {},
   "source": [
    "Creating high quality antibodies is a common task in biotech research. While some call for a complete phase out of polyclonal antibodies (as the future may well hold), they are still a fundamental tool in research, and much quality could be gained by improving the design process. Not developing our understanding of where they come from and how to make them better is a bit like canceling driver education programs because self-driving cars are on the rise."
   ]
  },
  {
   "cell_type": "markdown",
   "metadata": {},
   "source": [
    "ASH (Antigen Selection Heuristic) is a simple tool to provide a user with flexibility in finding regions of similarity and dissimilarity in protein sequences for antigen selection. ASH uses a hydrophilicty weighted scale to determine the likely biochemical traits of the target. While tools for analysis and design of antigens exist and they are certainly useful, they tend to operate within a \"black box\". ASH aims to complement them by allowing more flexibility; it can be used to find similarity as well as dissimilarity and provides usable informations to the user about how the output was generated."
   ]
  },
  {
   "cell_type": "markdown",
   "metadata": {},
   "source": [
    "ASH came from a simple question with complex answers: If I am targeting a protein with an antibody, how do I minimize the chance it reacts with similar proteins I'm not interested in? What if I do want to capture both? How do I assure the highest chance? While alignment tools give a notation to determine the similarity, how can I ensure that it is interpreted consistently? What if I have more than one to read?\n",
    "\n",
    "To answer these questions as demostrate some of the inner workings or ASH, consider the following alignment region of FAAH1 and FAAH2 (O00519, Q6GMR7). We'll take a look at how we manage cross reactivity with FAAH2 if we're interested in FAAH1."
   ]
  },
  {
   "cell_type": "markdown",
   "metadata": {},
   "source": [
    "SP|O00519|\n",
    "FAAH1_HUMAN CDSVVVHVLKLQGAVPFVHTNVPQSMFSYDCSNPLFGQTVNPWKSSKSPGGSSGGEGALI\n",
    "\n",
    "\n",
    "SP|Q6GMR7|FAAH2_HUMAN\n",
    "TDATVVALLKGAGAIPLGITNCSELCMWYESSNKIYGRSNNPYDLQHIVGGSSGGEGCTL"
   ]
  },
  {
   "cell_type": "markdown",
   "metadata": {},
   "source": [
    "Let's say for sake of argument we have three candidates for a 15 residue peptide to synthesize and generate antibodies against (ASH will include functionality to find candidates, we're just assuming we have a few in mind already for demonstrative purposes). They are all taken from FAAH1 as potential bases for design work.\n",
    "\n",
    "from the start:\n",
    "CDSVVVHVLKLQGAV\n",
    "\n",
    "from the middle:\n",
    "VHTNVPQSMFSYDCS\n",
    "\n",
    "from the end:\n",
    "SKSPGGSSGGEGALI\n",
    "\n",
    "How do we know which will give us the best odds of hitting FAAH1 without interferance from FAAH2?"
   ]
  },
  {
   "cell_type": "markdown",
   "metadata": {},
   "source": [
    "ASH works using a series of functions to compare potential targets to potential candidates for cross-reactivity. It uses a sliding window method to match the candidate to all the k-mers of the same size and scores their similarity based on a simple scoring matrix. In a biochemical system such as this, a simple match/no-match approach will not suffice; all residues are not created equal. Currently, the scale uses considers 3 basic residue types: strongly hydrophilic, mostly neutral, and strongly hydrophobic. With charge dictating a good amount of a chemical traits and hydrophilicity heavily linked to antigenicity, this will get us started in the prototype phase. The scale will measure the degree to which the antigens are mismatched. For now, we'll assign the weights as follows:\n"
   ]
  },
  {
   "cell_type": "markdown",
   "metadata": {},
   "source": [
    "\n",
    "                D,E,R,K          =   Philes  --->   +0.5 points\n",
    "\n",
    "                L,A,F,Y,W,I,M,V  =   Phobes  --->   -0.5 points\n",
    "\n",
    "                All others       =   Neutral --->   +0.0 points\n"
   ]
  },
  {
   "cell_type": "markdown",
   "metadata": {},
   "source": [
    "Let's visualize the scale. We will use the absolute value of the difference in scores, as this causes a phile <--> phobe comparison to result in the highest mismatch, reflecting the distance in traits of the residues.\n"
   ]
  },
  {
   "cell_type": "markdown",
   "metadata": {},
   "source": [
    "                 Hydrophobe ---------- Neutral ---------- Hydrophile \n",
    "                 -0.5                     0                     +0.5\n"
   ]
  },
  {
   "cell_type": "markdown",
   "metadata": {},
   "source": [
    "    \n",
    "A critical observer might notice that this means a \"H\" to \"H\" match is scored the same as a \"T\" to \"H\". While they are similar for our purposes, they clearly should not be considered completely the same. To avoid this (and avoid unnecessary function calls), we use a simple equality comparison and simply skip identical residues. This results in a indirectly assigned mismatch score of 0 for matches. Once we do this, we can maintain our simple, three-degree scoring. If the absolute value of the comparison results in a 0, a score of 0.25 is returned by default. This means residues from the same catagory (that aren't identical) receive the smallest penalty possible, and that penalty will increase by 0.25 with each consecutive step \"away\" from one another they are."
   ]
  },
  {
   "cell_type": "markdown",
   "metadata": {},
   "source": [
    "            H <--> H = 0.00 : Identical, function not called\n",
    "            \n",
    "            T <--> H = 0.25 : Neutral <--> Neutral - score would be 0, return 0.25\n",
    "            \n",
    "            H <--> D = 0.50 : Neutral <--> Phile - One \"step\" away, return 0.50\n",
    "            \n",
    "            Y <--> Y = 1.00 : Phobe   <--> Phile - Two \"steps\" away, return 1.00\n",
    "    "
   ]
  },
  {
   "cell_type": "markdown",
   "metadata": {},
   "source": [
    "A critical observer might notice that this means a \"H\" to \"H\" match is scored the same as a \"T\" to \"H\". While they are similar for our purposes, they clearly should not be considered completely the same. To avoid this (and unnecessary function calls), we use a simple equality comparison and simply totally identical residues. This results in a indirectly assigned mismatch score of 0 for matches. Once we do this, we can maintain our simple, three-degree scoring. If the absolute value of the comparison results in a 0, a score of 0.25 is returned by default. This means residues from the same category (that aren't identical) receive the smallest penalty possible, and that penalty will increase by 0.25 with each consecutive step \"away\" from one another they are.\n",
    "\n",
    "    H <--> H = 0.00 : Identical, function not called\n",
    "    T <--> H = 0.25 : Neutral <--> Neutral - score would be 0, return 0.25\n",
    "    H <--> D = 0.50 : Neutral <--> Phile - One \"step\" away, return 0.50\n",
    "    Y <--> Y = 1.00 : Phobe <--> Phile - Two \"steps\" away, return 1.00"
   ]
  },
  {
   "cell_type": "markdown",
   "metadata": {},
   "source": [
    "## Visualizing the Scale "
   ]
  },
  {
   "cell_type": "markdown",
   "metadata": {},
   "source": [
    "It is possible to create an approximate visualization of this scale:\n"
   ]
  },
  {
   "cell_type": "markdown",
   "metadata": {},
   "source": [
    "                                      A Match:\n",
    "                         Function not called,Defaults to zero \n",
    "                                 \n",
    "                                 \n",
    "                                 "
   ]
  },
  {
   "cell_type": "markdown",
   "metadata": {},
   "source": [
    "\n",
    "                                        H:H\n",
    "                 Hydrophobe|-----------Neutral-----------|Hydrophile \n",
    "                 -0.5                    0                      +0.5\n",
    "____________________________________________________________________________________________\n"
   ]
  },
  {
   "cell_type": "markdown",
   "metadata": {},
   "source": [
    "                             Similar but not identical:\n",
    "                                  Defaults to 0.25"
   ]
  },
  {
   "cell_type": "markdown",
   "metadata": {},
   "source": [
    "                                     H <-----> T\n",
    "                 Hydrophobe|-----------Neutral-----------|Hydrophile \n",
    "                 -0.5                     0                     +0.5\n",
    "____________________________________________________________________________________________\n"
   ]
  },
  {
   "cell_type": "markdown",
   "metadata": {},
   "source": [
    "                                 Neutral to phile:"
   ]
  },
  {
   "cell_type": "markdown",
   "metadata": {},
   "source": [
    "                                          H <--------------------> D\n",
    "                 Hydrophobe|-----------Neutral-----------|Hydrophile \n",
    "                 -0.5                     0                     +0.5\n",
    "\n",
    "____________________________________________________________________________________________\n"
   ]
  },
  {
   "cell_type": "markdown",
   "metadata": {},
   "source": [
    "                                  Phobe to Phile:"
   ]
  },
  {
   "cell_type": "markdown",
   "metadata": {},
   "source": [
    "                 Y <---------------------------------------------> D\n",
    "                 Hydrophobe|-----------Neutral-----------|Hydrophile \n",
    "                 -0.5                     0                     +0.5\n",
    "\n",
    "____________________________________________________________________________________________\n",
    "\n"
   ]
  },
  {
   "cell_type": "markdown",
   "metadata": {},
   "source": [
    "## Coding the First Function"
   ]
  },
  {
   "cell_type": "markdown",
   "metadata": {},
   "source": [
    "This scale can be implemented thusly"
   ]
  },
  {
   "cell_type": "code",
   "execution_count": 1,
   "metadata": {},
   "outputs": [],
   "source": [
    "import math\n",
    "\n",
    "\"\"\"This function finds the score of two residues \"\"\"\n",
    "\n",
    "def weighted_score(residue1, residue2):\n",
    "    # hydrophiles are positive, hydrophobic negative, neutral 0 \n",
    "    weight = {  \"L\":-0.5, \"A\":-0.5, \"F\":-0.5, \"Y\":-0.5, \"W\":-0.5, \n",
    "                \"I\":-0.5, \"V\":-0.5, \"H\":+0.0, \"C\":+0.0, \"N\":+0.0, \n",
    "                \"G\":+0.0, \"M\":+0.0, \"Q\":+0.0, \"P\":+0.0, \"S\":+0.0, \n",
    "                \"T\":+0.0, \"D\":+0.5, \"E\":+0.5, \"R\":+0.5, \"K\":+0.5 }\n",
    "    \n",
    "    # subscore is the abs value of the scores \n",
    "    subscore = abs(weight[residue1] - weight[residue2])\n",
    "\n",
    "    # same group returns 0.25\n",
    "    if subscore == 0:\n",
    "        return 0.25\n",
    "    else:\n",
    "        return subscore"
   ]
  },
  {
   "cell_type": "markdown",
   "metadata": {},
   "source": [
    "Let's take a look a this in context. We'll need to implement the logic the determine if we need to call the function. Just to see that it works, we can compare two of our antigens."
   ]
  },
  {
   "cell_type": "code",
   "execution_count": 20,
   "metadata": {},
   "outputs": [
    {
     "name": "stdout",
     "output_type": "stream",
     "text": [
      "0.25\n"
     ]
    }
   ],
   "source": [
    "pep1 = \"PEPTIDE\"\n",
    "pep2 = \"PEPTYDE\"\n",
    "\n",
    "\n",
    "\"\"\"This functions scores peptides using the scale and function above\"\"\"\n",
    "\n",
    "# create a scoring function\n",
    "def mismatch(input_seq1, input_seq2):\n",
    "    score = 0\n",
    "    # for each residue in the sequences\n",
    "    for i in range(len(input_seq1)):\n",
    "        # identical give no score\n",
    "        if input_seq1[i] == input_seq2[i]:\n",
    "            score += 0\n",
    "        else:\n",
    "            # use scoring function for all non-matches\n",
    "            score += weighted_score(input_seq1[i], input_seq2[i])\n",
    "    return score\n",
    "\n",
    "print(mismatch(pep1, pep2))"
   ]
  },
  {
   "cell_type": "markdown",
   "metadata": {},
   "source": [
    "This makes sense: The pair where these two sequences mismatch are in the same class in our scale."
   ]
  },
  {
   "cell_type": "markdown",
   "metadata": {},
   "source": [
    "Our primary question in the demonstration is minimizing our chances of cross reactivity. With what we have so far we can do so. All we need to do is call our function on our targets and the regions of the FAAH2 sequence where they align. Let's look at our alignment again.\n"
   ]
  },
  {
   "cell_type": "markdown",
   "metadata": {},
   "source": [
    "![title](img/al1.png)"
   ]
  },
  {
   "cell_type": "markdown",
   "metadata": {},
   "source": [
    "We see that candidate1, CDSVVVHVLKLQGA, lines up with TDATVVALLKGAGAI."
   ]
  },
  {
   "cell_type": "code",
   "execution_count": 21,
   "metadata": {},
   "outputs": [
    {
     "name": "stdout",
     "output_type": "stream",
     "text": [
      "3.0\n"
     ]
    }
   ],
   "source": [
    "print(mismatch(\"CDSVVVHVLKLQGA\", \"TDATVVALLKGAGA\"))"
   ]
  },
  {
   "cell_type": "markdown",
   "metadata": {},
   "source": [
    "This offers us a weighted mismatch of 3.0. Let's see how that stacks up with the others."
   ]
  },
  {
   "cell_type": "markdown",
   "metadata": {},
   "source": [
    "The middle one:"
   ]
  },
  {
   "cell_type": "code",
   "execution_count": 22,
   "metadata": {},
   "outputs": [
    {
     "name": "stdout",
     "output_type": "stream",
     "text": [
      "4.5\n"
     ]
    }
   ],
   "source": [
    "print(mismatch(\"VHTNVPQSMFSYDCS\", \"GITNCSELCMWYESS\"))"
   ]
  },
  {
   "cell_type": "markdown",
   "metadata": {},
   "source": [
    "The third:"
   ]
  },
  {
   "cell_type": "code",
   "execution_count": 23,
   "metadata": {},
   "outputs": [
    {
     "name": "stdout",
     "output_type": "stream",
     "text": [
      "3.0\n"
     ]
    }
   ],
   "source": [
    "print(mismatch(\"SKSPGGSSGGEGALI\", \"QHIVGGSSGGEGCTL\"))"
   ]
  },
  {
   "cell_type": "markdown",
   "metadata": {},
   "source": [
    "## Comparison to Visual Methods"
   ]
  },
  {
   "cell_type": "markdown",
   "metadata": {
    "collapsed": true
   },
   "source": [
    "It looks like the middle candidate has the best mismatch score, suggesting the lowest risk of cross reaction. Let's look at the conventional notation to confirm. This system uses \"*\" for exact matches, \":\" for strong ones, and \".\" for weak ones. No notation means they are highly distinct. Here is the overall alignment for these regions:"
   ]
  },
  {
   "cell_type": "markdown",
   "metadata": {},
   "source": [
    "![title](img/al2.png)"
   ]
  },
  {
   "cell_type": "markdown",
   "metadata": {},
   "source": [
    "It's helpful to zoom in on each of our candidates:"
   ]
  },
  {
   "cell_type": "markdown",
   "metadata": {},
   "source": [
    "Antigen 1"
   ]
  },
  {
   "cell_type": "markdown",
   "metadata": {},
   "source": [
    "![title](img/al3.png)"
   ]
  },
  {
   "cell_type": "markdown",
   "metadata": {},
   "source": [
    "Antigen 2"
   ]
  },
  {
   "cell_type": "markdown",
   "metadata": {},
   "source": [
    "![title](img/al4.png)"
   ]
  },
  {
   "cell_type": "markdown",
   "metadata": {},
   "source": [
    "Antigen 3"
   ]
  },
  {
   "cell_type": "markdown",
   "metadata": {},
   "source": [
    "![title](img/al5.png)"
   ]
  },
  {
   "cell_type": "markdown",
   "metadata": {},
   "source": [
    "Subjectively speaking, the middle candidate is the winner here, having much less clutter in the reading. This suggests that ASH could be useful in finding these faster, more quantitatively, and more consistently from project to project. "
   ]
  },
  {
   "cell_type": "markdown",
   "metadata": {},
   "source": [
    "Additionally, this will allow for work to be done where intuitive, visual methods are less reliable. Consider the following."
   ]
  },
  {
   "cell_type": "markdown",
   "metadata": {},
   "source": [
    "This gives us a way to see how our selection compares to every kmer of the same length in a sequence, not just other selections, helping to anticipate cross reactivity and where,specifically, it is likely to occur."
   ]
  },
  {
   "cell_type": "markdown",
   "metadata": {},
   "source": [
    "Let's see a larger example. We'll now tweak this method so that it will take two proteins, and tell use which region in protein1 is the least likely to cross react with it's corresponding region in protein2. "
   ]
  },
  {
   "cell_type": "markdown",
   "metadata": {},
   "source": [
    "Before we can do so, we'll need to make our own data structure to store the results. While it is tempting to use a dict, consider the following: there may well be regions that are identical, especially if we're using a fairly short kmer size. The will almost certain score differently against their counterparts, so we while one sequence, say, \"PEPTIDE\", scores a 5, an identical region may score a 4 later on. Key-value pairs aren't sufficient in this case as we won't know which we are looking up. We'll define a class that stores a protein, the reion it was compared to, their score, and the position at which it occurs so we will know preciscely what is happening."
   ]
  },
  {
   "cell_type": "code",
   "execution_count": 24,
   "metadata": {},
   "outputs": [],
   "source": [
    "\n",
    "\"\"\"This class stores the data for each comparison\"\"\"\n",
    "\n",
    "class Entry(object):\n",
    "    \n",
    "    def __init__(self, seq, pos, score, match):\n",
    "        self.seq   =   seq   # the peptide\n",
    "        self.pos   =   pos   # what index is appears\n",
    "        self.score = score   # the mismatch score\n",
    "        self.match = match   # what it was compared to"
   ]
  },
  {
   "cell_type": "markdown",
   "metadata": {},
   "source": [
    "We can now make a function that invokes our previous functions on two proteins, comparing each region in protein1 to the same region in protein2."
   ]
  },
  {
   "cell_type": "code",
   "execution_count": 25,
   "metadata": {},
   "outputs": [],
   "source": [
    "\n",
    "\"\"\"This function compares two sequences, calling the mistmatch at each location\"\"\"\n",
    "\n",
    "# define a seq-seq comparison function\n",
    "def seq_to_seq(seq1, seq2, length):\n",
    "    \n",
    "    # we'll store a list of objects\n",
    "    results = []       \n",
    "    \n",
    "    # we start at 0\n",
    "    position = 0\n",
    "    \n",
    "    # iterate up to the end of the seqs\n",
    "    while position + length <= len(seq1):\n",
    "        \n",
    "        # compare the region on each protein\n",
    "        current_peptide = seq1[position:position+length]\n",
    "        compare_peptide = seq2[position:position+length]\n",
    "        entry = mismatch(current_peptide, compare_peptide)\n",
    "        \n",
    "        # create and object to store the results\n",
    "        results_obj = Entry(\n",
    "                            seq   = current_peptide,\n",
    "                            pos   = position,\n",
    "                            score = entry,\n",
    "                            match = compare_peptide\n",
    "                            )\n",
    "        \n",
    "        # capture objects created\n",
    "        results.append(results_obj)\n",
    "        \n",
    "        # increse the step\n",
    "        position += 1\n",
    "    return results"
   ]
  },
  {
   "cell_type": "markdown",
   "metadata": {},
   "source": [
    "We can now try to function. This block will define two sequences and return a list of 15mers. We can then easily filter for a mismatch criteria, say, 15."
   ]
  },
  {
   "cell_type": "code",
   "execution_count": 26,
   "metadata": {},
   "outputs": [
    {
     "name": "stdout",
     "output_type": "stream",
     "text": [
      "Index\t Seq\t\t\t Score \t Compared to\n",
      "10 \t LQGAVPFVHTNVPQS \t 4.25 \t GAGAIPLGITNCSEL \t\n",
      "13 \t AVPFVHTNVPQSMFS \t 4.5 \t AIPLGITNCSELCMW \t\n",
      "14 \t VPFVHTNVPQSMFSY \t 4.5 \t IPLGITNCSELCMWY \t\n",
      "15 \t PFVHTNVPQSMFSYD \t 4.5 \t PLGITNCSELCMWYE \t\n",
      "16 \t FVHTNVPQSMFSYDC \t 4.75 \t LGITNCSELCMWYES \t\n",
      "17 \t VHTNVPQSMFSYDCS \t 4.5 \t GITNCSELCMWYESS \t\n",
      "20 \t NVPQSMFSYDCSNPL \t 4.25 \t NCSELCMWYESSNKI \t\n",
      "21 \t VPQSMFSYDCSNPLF \t 4.5 \t CSELCMWYESSNKIY \t\n",
      "23 \t QSMFSYDCSNPLFGQ \t 4.25 \t ELCMWYESSNKIYGR \t\n",
      "33 \t PLFGQTVNPWKSSKS \t 4.5 \t KIYGRSNNPYDLQHI \t\n",
      "34 \t LFGQTVNPWKSSKSP \t 4.5 \t IYGRSNNPYDLQHIV \t\n",
      "35 \t FGQTVNPWKSSKSPG \t 4.25 \t YGRSNNPYDLQHIVG \t\n"
     ]
    }
   ],
   "source": [
    "\n",
    "# which region in protein 1 is most distinct from it's counterpart in protein2?\n",
    "seq1 = \"CDSVVVHVLKLQGAVPFVHTNVPQSMFSYDCSNPLFGQTVNPWKSSKSPGGSSGGEGALI\"\n",
    "seq2 = \"TDATVVALLKGAGAIPLGITNCSELCMWYESSNKIYGRSNNPYDLQHIVGGSSGGEGCTL\"\n",
    "\n",
    "# call the function with the seqs as input for 15mers\n",
    "fifteen_mers = seq_to_seq(seq1, seq2, 15)\n",
    "\n",
    "#print out a simple header\n",
    "print(\"Index\\t\",\"Seq\\t\\t\\t\", \"Score\", \"\\t Compared to\")\n",
    "\n",
    "# iterate through results and return only 4.0 mismatches or higher\n",
    "for item in fifteen_mers:\n",
    "    if item.score > 4:\n",
    "        print(item.pos, \"\\t\", item.seq,\"\\t\",item.score, \"\\t\",item.match, \"\\t\")\n"
   ]
  },
  {
   "cell_type": "markdown",
   "metadata": {},
   "source": [
    "Future developments will likely include the addition of a guide to help find the antigens in the first place, an alignment function (probably imported from scikit-bio), possible modification of the scale, support for varying lengths, and the generation of a tab-delineated report of various results and metrics."
   ]
  },
  {
   "cell_type": "markdown",
   "metadata": {},
   "source": [
    "Thanks for taking the time to review the ASH tool proof of concept."
   ]
  }
 ],
 "metadata": {
  "kernelspec": {
   "display_name": "Python 3",
   "language": "python",
   "name": "python3"
  },
  "language_info": {
   "codemirror_mode": {
    "name": "ipython",
    "version": 3
   },
   "file_extension": ".py",
   "mimetype": "text/x-python",
   "name": "python",
   "nbconvert_exporter": "python",
   "pygments_lexer": "ipython3",
   "version": "3.6.4"
  }
 },
 "nbformat": 4,
 "nbformat_minor": 2
}
