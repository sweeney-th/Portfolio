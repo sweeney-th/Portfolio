{
 "cells": [
  {
   "cell_type": "markdown",
   "metadata": {},
   "source": [
    "# Adopting a Bioinformatics Prototype to Find Well-Conserved and Antigenic Epitopes In Related Proteins.\n"
   ]
  },
  {
   "cell_type": "markdown",
   "metadata": {},
   "source": [
    "### Prof. Silva:"
   ]
  },
  {
   "cell_type": "markdown",
   "metadata": {},
   "source": [
    "This is a proof-of-concept of how the tool I have been tinkering with to finding distinct regions in proteins could be modified to find conserved and antigenic ones. \n",
    "\n",
    "The paper you referred me to mentions that \"functionally required epitopes are highly conserved among heterologous viral strains and represent a key vulnerability that could be targeted during vaccine development\".\n",
    "\n",
    "Using this as a cue, I have taken (somewhat arbitrarily) two HIV protein sequences, ENV_HV1MN Envelope glycoprotein gp160 (P05877) and ENV_HV1VI Envelope glycoprotein gp160 Q9QSQ7 and asked a simple question:\n",
    "\n",
    "##### \"If I wanted to target a region of these proteins, how could I pick an epitope that is both highly conserved (broadly neutralizing) and antigenic (likely to produce an immune response at all)?\"\n",
    "\n",
    "The goal for this proof-of-concept will be to computationally aide a researcher in selecting antigens that are conserved between the two proteins and likely to be antigenic. \n",
    "\n",
    "##### Specifically: we will attempt to find a list of 15mers that score well in our system for conservation and antigenicity."
   ]
  },
  {
   "cell_type": "markdown",
   "metadata": {},
   "source": [
    "## ASH - Antigen Selection Heuristic (re-purposed)\n"
   ]
  },
  {
   "cell_type": "markdown",
   "metadata": {},
   "source": [
    "This is a proof of concept for a bioinformatics tool to aid in epitope selection. It is a simple but practical algorithm originally conceived to find chemically distinct regions of similar proteins so antibodies could be created to act on one while providing the smallest chance of cross reactivity with the other. It can also be used to do the opposite by filtering the data differently.\n",
    "\n",
    "We will define a scale to weigh individual residues against one another and the use it to compare kmers in one protein to their analog in another. "
   ]
  },
  {
   "cell_type": "markdown",
   "metadata": {},
   "source": [
    "In this prototype, the system uses hydrophilicity as an approximation for antigenicity. We assign points the amino acids as follows. "
   ]
  },
  {
   "cell_type": "markdown",
   "metadata": {},
   "source": [
    "\n",
    "                D,E,R,K          =   Philes  --->   +0.5 points\n",
    "\n",
    "                L,A,F,Y,W,I,M,V  =   Phobes  --->   -0.5 points\n",
    "\n",
    "                All others       =   Neutral --->   +0.0 points\n"
   ]
  },
  {
   "cell_type": "markdown",
   "metadata": {},
   "source": [
    "The program will iterate through a pair of aligned sequences and apply the tool to the two amino acids as each index of the sequences. For example, given \"TIDE\" and \"TYDE\" it would compare T to T, I to Y, D to D, and E to E. The is would result in an overall mismatch score (it is framed in terms of mismatches due to its initial purpose of finding distinct regions)."
   ]
  },
  {
   "cell_type": "markdown",
   "metadata": {},
   "source": [
    "## Visualizing the ASH Scale"
   ]
  },
  {
   "cell_type": "markdown",
   "metadata": {},
   "source": [
    "We can visualize the scale thusly:"
   ]
  },
  {
   "cell_type": "markdown",
   "metadata": {},
   "source": [
    "                 Hydrophobe ---------- Neutral ---------- Hydrophile \n",
    "                 -0.5                     0                     +0.5\n"
   ]
  },
  {
   "cell_type": "markdown",
   "metadata": {},
   "source": [
    "A critical observer might notice that this means a \"H\" to \"H\" match is scored the same as a \"T\" to \"H\". While they are similar for our purposes, they clearly should not be considered completely the same. To avoid this (and avoid unnecessary function calls), we use a simple equality comparison and simply skip identical residues. This results in a indirectly assigned mismatch score of 0 for matches. Once we do this, we can maintain our simple scoring. If the absolute value of the comparison results in a 0, a score of 0.25 is returned by default. This means residues from the same category (that aren't identical) receive the smallest penalty possible, and that penalty will increase by 0.25 with each consecutive step \"away\" from one another they are. Thus our scale ranges from -0.5 to + 0.5 in increments of 0.25. If there is a gap in the sequence, we will assign a mismatch score of 2 to reflect that even very different residues are closer together than a match between a residue and nothing. This thinking is based on maintaining the simplicity of the tool and the fact that gaps are weighted heavily in the alignment algorithms."
   ]
  },
  {
   "cell_type": "markdown",
   "metadata": {},
   "source": [
    "            H <--> H = 0.00 : Identical, function not called\n",
    "            \n",
    "            T <--> H = 0.25 : Neutral <--> Neutral - score would be 0, return 0.25\n",
    "            \n",
    "            H <--> D = 0.50 : Neutral <--> Phile - One \"step\" away, return 0.50\n",
    "            \n",
    "            Y <--> Y = 1.00 : Phobe   <--> Phile - Two \"steps\" away, return 1.00\n",
    "    "
   ]
  },
  {
   "cell_type": "markdown",
   "metadata": {},
   "source": [
    "To illustrate visually:"
   ]
  },
  {
   "cell_type": "markdown",
   "metadata": {},
   "source": [
    "                                      A Match:\n",
    "                         Function not called,Defaults to zero \n",
    "                                 \n",
    "                                 \n",
    "                                 "
   ]
  },
  {
   "cell_type": "markdown",
   "metadata": {},
   "source": [
    "\n",
    "                                        H:H\n",
    "                 Hydrophobe|-----------Neutral-----------|Hydrophile \n",
    "                 -0.5                    0                      +0.5\n"
   ]
  },
  {
   "cell_type": "markdown",
   "metadata": {},
   "source": [
    "                             Similar but not identical:\n",
    "                                  Defaults to 0.25"
   ]
  },
  {
   "cell_type": "markdown",
   "metadata": {},
   "source": [
    "                                     H <-----> T\n",
    "                 Hydrophobe|-----------Neutral-----------|Hydrophile \n",
    "                 -0.5                     0                     +0.5\n"
   ]
  },
  {
   "cell_type": "markdown",
   "metadata": {},
   "source": [
    "                                 Neutral to Phile:"
   ]
  },
  {
   "cell_type": "markdown",
   "metadata": {},
   "source": [
    "                                          H <--------------------> D\n",
    "                 Hydrophobe|-----------Neutral-----------|Hydrophile \n",
    "                 -0.5                     0                     +0.5\n",
    "\n",
    "\n"
   ]
  },
  {
   "cell_type": "markdown",
   "metadata": {},
   "source": [
    "                                  Phobe to Phile:"
   ]
  },
  {
   "cell_type": "markdown",
   "metadata": {},
   "source": [
    "                 Y <---------------------------------------------> D\n",
    "                 Hydrophobe|-----------Neutral-----------|Hydrophile \n",
    "                 -0.5                     0                     +0.5\n"
   ]
  },
  {
   "cell_type": "markdown",
   "metadata": {},
   "source": [
    "### Coding the first function "
   ]
  },
  {
   "cell_type": "markdown",
   "metadata": {},
   "source": [
    "We can write a function that implements this scoring scheme using a dictionary. Recall that for the purposes of this prototype, we will give a \"-\" in an alignment a score of two, implying that having no residue at the index in one sequence makes it twice as distinct as having a residue there that is very different. "
   ]
  },
  {
   "cell_type": "code",
   "execution_count": 76,
   "metadata": {},
   "outputs": [],
   "source": [
    "import math\n",
    "\n",
    "\"\"\"This function finds the score of two residues \"\"\"\n",
    "\n",
    "def weighted_score(residue1, residue2):\n",
    "    # hydrophiles are positive, hydrophobic is negative, neutral is 0 \n",
    "    weight = {  \"L\":-0.5, \"A\":-0.5, \"F\":-0.5, \"Y\":-0.5, \"W\":-0.5,\n",
    "                \"I\":-0.5, \"V\":-0.5, \"H\":+0.0, \"N\":+0.0, \"C\":+0.0,\n",
    "                \"G\":+0.0, \"M\":+0.0, \"Q\":+0.0, \"P\":+0.0, \"S\":+0.0, \n",
    "                \"T\":+0.0, \"D\":+0.5, \"E\":+0.5, \"R\":+0.5, \"K\":+0.5 }\n",
    "    \n",
    "    # a gap is given a score of two in our system \n",
    "    if residue1 == \"-\" or residue2 == \"-\":\n",
    "        return 2.0\n",
    "    \n",
    "    # subscore is the abs value of the scores \n",
    "    subscore = abs(weight[residue1] - weight[residue2])\n",
    "    \n",
    "    # same group returns 0.25\n",
    "    if subscore == 0:\n",
    "        return 0.25\n",
    "    else:\n",
    "        return subscore"
   ]
  },
  {
   "cell_type": "markdown",
   "metadata": {},
   "source": [
    "Next we will make a function that applies the above function to each letter at the same index in a pair of sequences. "
   ]
  },
  {
   "cell_type": "code",
   "execution_count": 77,
   "metadata": {},
   "outputs": [],
   "source": [
    "\n",
    "\"\"\"This functions scores peptides using the scale and function above\"\"\"\n",
    "\n",
    "# create a scoring function\n",
    "def mismatch(input_seq1, input_seq2):\n",
    "    score = 0\n",
    "    # for each residue in the sequences\n",
    "    for i in range(len(input_seq1)):\n",
    "        # identical give no score\n",
    "        if input_seq1[i] == input_seq2[i]:\n",
    "            score += 0\n",
    "        else:\n",
    "            # use scoring function for all non-matches\n",
    "            score += weighted_score(input_seq1[i], input_seq2[i])\n",
    "    return score\n",
    "\n"
   ]
  },
  {
   "cell_type": "markdown",
   "metadata": {},
   "source": [
    "Here is an example of the function in use:\n"
   ]
  },
  {
   "cell_type": "code",
   "execution_count": 78,
   "metadata": {},
   "outputs": [
    {
     "name": "stdout",
     "output_type": "stream",
     "text": [
      "0\n",
      "0\n",
      "0\n",
      "0\n",
      "0.25\n",
      "0\n",
      "0\n"
     ]
    }
   ],
   "source": [
    "\n",
    "# examples sequence\n",
    "pep1 = \"PEPTIDE\"\n",
    "pep2 = \"PEPTYDE\"\n",
    "\n",
    "# iterate throught he sequences and call the function \n",
    "for i in range(len(pep1)):\n",
    "    print(mismatch(pep1[i], pep2[i]))"
   ]
  },
  {
   "cell_type": "markdown",
   "metadata": {},
   "source": [
    "This is what we would expect: they only differ in one point, by a residue we consider \"similar but not identical\"."
   ]
  },
  {
   "cell_type": "markdown",
   "metadata": {},
   "source": [
    "## Application to Full Peptides\n"
   ]
  },
  {
   "cell_type": "markdown",
   "metadata": {},
   "source": [
    "Now we can write a function that applies this to a sequence as a whole. The result of this function will be the \"mismatch\" score, of the two peptides."
   ]
  },
  {
   "cell_type": "markdown",
   "metadata": {},
   "source": [
    "We can now apply that to the sample peptides mentioned earlier."
   ]
  },
  {
   "cell_type": "code",
   "execution_count": 79,
   "metadata": {},
   "outputs": [
    {
     "name": "stdout",
     "output_type": "stream",
     "text": [
      "0.25\n"
     ]
    }
   ],
   "source": [
    "print(mismatch(pep1, pep2))"
   ]
  },
  {
   "cell_type": "markdown",
   "metadata": {},
   "source": [
    "Another example to drive it home. "
   ]
  },
  {
   "cell_type": "code",
   "execution_count": 80,
   "metadata": {},
   "outputs": [
    {
     "name": "stdout",
     "output_type": "stream",
     "text": [
      "1.25\n"
     ]
    }
   ],
   "source": [
    "\n",
    "# try on new peptides \n",
    "pep3 = \"PEPTIDE\"\n",
    "pep4 = \"PEPTAAE\"\n",
    "\n",
    "print(mismatch(pep3, pep4))"
   ]
  },
  {
   "cell_type": "markdown",
   "metadata": {},
   "source": [
    "To see how this works in practice we will open fasta files storing information on ENV_HV1MN Envelope glycoprotein gp160 and ENV_HV1VI Envelope glycoprotein gp160. First, a quick parser for single entry fasta files:"
   ]
  },
  {
   "cell_type": "markdown",
   "metadata": {},
   "source": [
    "## Testing it on Our Sequences "
   ]
  },
  {
   "cell_type": "code",
   "execution_count": 81,
   "metadata": {},
   "outputs": [],
   "source": [
    "\n",
    "# this function extracts the sequence from a fasta file\n",
    "def get_seq(filename):\n",
    "    seq = ''\n",
    "    # read in file, skp header, save sequences\n",
    "    data = open(filename, 'r').readlines()\n",
    "    for line in data:\n",
    "        if not line.startswith('>'): # skips header\n",
    "            line = line.replace('\\n', '')\n",
    "            seq += line\n",
    "    return seq"
   ]
  },
  {
   "cell_type": "markdown",
   "metadata": {},
   "source": [
    "Let's use the parse to read in our sequences:"
   ]
  },
  {
   "cell_type": "code",
   "execution_count": 82,
   "metadata": {},
   "outputs": [
    {
     "name": "stdout",
     "output_type": "stream",
     "text": [
      "MRVKGIRRNYQHWWGWGTMLLGLLMICSATEKLWVTVYYGVPVWKEATTTLFCASDAKAYDTEVHNVWATQACVPTDPNPQEVELVNVTENFNMWKNNMVEQMHEDIISLWDQSLKPCVKLTPLCVTLNCTDLRNTTNTNNSTANNNSNSEGTIKGGEMKNCSFNITTSIRDKMQKEYALLYKLDIVSIDNDSTSYRLISCNTSVITQACPKISFEPIPIHYCAPAGFAILKCNDKKFSGKGSCKNVSTVQCTHGIRPVVSTQLLLNGSLAEEEVVIRSENFTDNAKTIIVHLNESVQINCTRPNYNKRKRIHIGPGRAFYTTKNIIGTIRQAHCNISRAKWNDTLRQIVSKLKEQFKNKTIVFNQSSGGDPEIVMHSFNCGGEFFYCNTSPLFNSTWNGNNTWNNTTGSNNNITLQCKIKQIINMWQEVGKAMYAPPIEGQIRCSSNITGLLLTRDGGKDTDTNDTEIFRPGGGDMRDNWRSELYKYKVVTIEPLGVAPTKAKRRVVQREKRAAIGALFLGFLGAAGSTMGAASVTLTVQARLLLSGIVQQQNNLLRAIEAQQHMLQLTVWGIKQLQARVLAVERYLKDQQLLGFWGCSGKLICTTTVPWNASWSNKSLDDIWNNMTWMQWEREIDNYTSLIYSLLEKSQTQQEKNEQELLELDKWASLWNWFDITNWLWYIKIFIMIVGGLVGLRIVFAVLSIVNRVRQGYSPLSLQTRPPVPRGPDRPEGIEEEGGERDRDTSGRLVHGFLAIIWVDLRSLFLFSYHHRDLLLIAARIVELLGRRGWEVLKYWWNLLQYWSQELKSSAVSLLNATAIAVAEGTDRVIEVLQRAGRAILHIPTRIRQGLERALL\n"
     ]
    }
   ],
   "source": [
    "\n",
    "# get our files using the new function \n",
    "ENV_HV1MN = get_seq(\"ENV_HV1MN.fasta\")\n",
    "ENV_HV1VI = get_seq(\"ENV_HV1VI.fasta\")\n",
    "\n",
    "# print one to see if it is working \n",
    "print(ENV_HV1MN)"
   ]
  },
  {
   "cell_type": "markdown",
   "metadata": {},
   "source": [
    "The sequences are not of identical length, so we will have to align them. We will use skbio's Smith-Waterman implementation to achieve this:"
   ]
  },
  {
   "cell_type": "code",
   "execution_count": 83,
   "metadata": {},
   "outputs": [
    {
     "name": "stdout",
     "output_type": "stream",
     "text": [
      "GIRRNYQHWW...\n",
      "GMQRNWQHLG...\n",
      "Score: 185\n",
      "Length: 853\n"
     ]
    }
   ],
   "source": [
    "from skbio.alignment import StripedSmithWaterman\n",
    "\n",
    "# make a query object of the first protein \n",
    "query = StripedSmithWaterman(ENV_HV1MN)\n",
    "\n",
    "# use it to create an alignment\n",
    "alignment = query(ENV_HV1VI)\n",
    "print(alignment)"
   ]
  },
  {
   "cell_type": "markdown",
   "metadata": {},
   "source": [
    "We can now extract aligned sequences and the gaps will be filled appropriately​. "
   ]
  },
  {
   "cell_type": "code",
   "execution_count": 84,
   "metadata": {},
   "outputs": [
    {
     "name": "stdout",
     "output_type": "stream",
     "text": [
      "HV1MN:\n",
      "GIRRNYQHWWGWGTMLLGLLMICSATEKLWVTVYYGVPVWKEATTTLFCASDAKAYDTEVHNVWATQACVPTDPNPQEVELVNVTENFNMWKNNMVEQMHEDIISLWDQSLKPCVKLTPLCVTLNCTDLRNTTNTNNSTANNNSNSEGTIKGGEMKNCSFNITTSIRDKMQKEYALLYKLDIVSIDNDSTSYRLISCNTSVITQACPKISFEPIPIHYCAPAGFAILKCNDKKFSGKGSCKNVSTVQCTHGIRPVVSTQLLLNGSLAEEEVVIRSENFTDNAKTIIVHLNESVQINCTRPNYNKRKRIHIGPGRAFYTTKNIIGTIRQAHCNISRAKWNDTLR-QIVSKLKEQFKNKTIVFNQSSGGDPEIVMHSFNCGGEFFYCNTSPLFNSTWNGNNTWNNTTGSNNNITLQCKIKQIINMWQEVGKAMYAPPIEGQIRCSSNITGLLLTRDGGKDTDTNDTEIFRPGGGDMRDNWRSELYKY-KVVTIEPLGVAPTKAKRRVVQREKRAAIGALFLGFLGAAGSTMGAASVTLTVQARLLLSGIVQQQNNLLRAIEAQQHMLQLTVWGIKQLQARVLAVERYLKDQQLLGFWGCSGKLICTTTVPWNASWSNKSLDDIWNNMTWMQWEREIDNYTSLIYSLLEKSQTQQEKNEQELLELDKWASLWNWFDITNWLWYIKIFIMIVGGLVGLRIVFAVLSIVNRVRQGYSPLSLQTRPPVPRGP-DRPEGIEEEGGERDRDTSGRLVHGFLAIIWVDLRSLFLFSYHHRDLLLIAARIVELLGRRGWEVLKYWWNLLQYWSQELKSSAVSLLNATAIAVAEGTDRVIEVLQRAGRAILHIPTRIRQGLERA\n",
      "\n",
      "HV1VI:\n",
      "GMQRNWQHLGKWGLLFLGILIICNAADNLWVTVYYGVPVWKEATTTLFCASDAKAYEREAHNVWATHACVPTDPNPQEVFLKNVTENFDMWKNNMVEQMHTDIISLWDQSLKPCVKLTPLCVTLNCTNATNNSQEKPG-AMQNCSFNMT-------------TEVRDKKLKLSALFYRLDIVPIGNNNSSEYRLINCNTSTITQACPKVSWDPIPIHYCAPAGYAILKCNDKRFNGTGPCKNVSTVQCTHGIKPVVSTQLLLNGSLAEEGIVIRSQNISNNAKTIIVHLNESVQINCTRPNNNTRKGIHLGPGQTFYATGAIIGDIRKAHCNISGTQWNNTLEYVKAELKSHFPNNTAIKFNQSSGGDLEITMHSFNCRGEFFYCDTSGLFNDTGSNNG----------TITLPCRIKQIVNMWQGVGRAMYTSPIAGNITCNSNITGLLLTRDG---GNESNIETFRPEGGNMKDNWRSELYKYKVVEIEPLGVAPTKAKRQVVQREKRAAGLGALFLGFLGDSREHMGAASITLTVQARQLLSGIVQQQNNLLRAIEAQQHLLQLTVWGIKQLQARVLAVERYLKDQQLLGIWGCSGKLICTTNVPWNSSWSNKSQEEIWNNMTWMEWEKEISNYSNIIYKLIEESQNQQEKNEQELLALDKWASLWNWFDISNWLWYIKIFIMIVGGLIGLRIVFAVLSIVNRVRKGYSPLSLQTLIPSPRGPDRPEGIEEGGGEQGKDRSVRLVTGFLALAWDDLRNLCLFSYRHLRDFILIAARIVDRGLRRGWEALKYLGNLTRYWSQELKNSAISLFNTTAIVVAEGTDRIIEVLQRAGRAVLNIPRRIRQGAERA\n"
     ]
    }
   ],
   "source": [
    "\n",
    "# extract the sequence \n",
    "HV1MN = alignment.aligned_query_sequence\n",
    "HV1VI = alignment.aligned_target_sequence\n",
    "\n",
    "print(\"HV1MN:\\n\" + HV1MN + \"\\n\")\n",
    "print(\"HV1VI:\\n\" + HV1VI)"
   ]
  },
  {
   "cell_type": "markdown",
   "metadata": {},
   "source": [
    "We can now find out how distinct there are in terms of our scale:"
   ]
  },
  {
   "cell_type": "code",
   "execution_count": 85,
   "metadata": {},
   "outputs": [
    {
     "name": "stdout",
     "output_type": "stream",
     "text": [
      "179.25\n"
     ]
    }
   ],
   "source": [
    "print(mismatch(HV1MN, HV1VI))"
   ]
  },
  {
   "cell_type": "markdown",
   "metadata": {},
   "source": [
    "## Putting it All Together "
   ]
  },
  {
   "cell_type": "markdown",
   "metadata": {},
   "source": [
    "Alone, this is not of much use. To gain insight form this technique, we must apply it to every kmer in a protein. Let's say we are looking for epitopes 15mers long. We will compare each 15mer in the first protein to it's analog in the other, thus finding which kmers are the most distinct. We will define a custom data structure that holds the sequence of the peptide, the position it occurs at in the seqence, the score of the peptide, the peptide it was compared to, and a simple measure of antigenicity."
   ]
  },
  {
   "cell_type": "code",
   "execution_count": 86,
   "metadata": {},
   "outputs": [],
   "source": [
    "\n",
    "\"\"\"This class stores the data for each comparison\"\"\"\n",
    "\n",
    "class Entry(object):\n",
    "    \n",
    "    def __init__(self, seq, pos, score, match, antg):\n",
    "        self.seq   =   seq   # the peptide\n",
    "        self.pos   =   pos   # what index is appears\n",
    "        self.score = score   # the mismatch score\n",
    "        self.match = match   # what it was compared to\n",
    "        self.antg  = antg    # the simple antigenicty score"
   ]
  },
  {
   "cell_type": "markdown",
   "metadata": {},
   "source": [
    "The antigenicity heuristic will use hydrophilicty as its basis. Later versions of this function will include nuances such as the complexity of the peptide."
   ]
  },
  {
   "cell_type": "code",
   "execution_count": 87,
   "metadata": {},
   "outputs": [],
   "source": [
    "\n",
    "\"\"\" This function implements a simple antigenicity heuristic\"\"\"\n",
    "\n",
    "def antigenicity(seq):\n",
    "    # count occurences of antigenic residues \n",
    "    simple_scores = [\"D\",\"E\",\"R\",\"K\"]\n",
    "    score = 0\n",
    "    for item in seq:\n",
    "        if item in simple_scores:\n",
    "            score += 1\n",
    "    return round(score/len(seq), 2)"
   ]
  },
  {
   "cell_type": "markdown",
   "metadata": {},
   "source": [
    "We're now ready to implement a sequence to sequence comparison function. It will iterate through the sequences, make the comparison, and store the data in the Entry class. This function will return a list of Entry objects that we can parse through."
   ]
  },
  {
   "cell_type": "code",
   "execution_count": 88,
   "metadata": {},
   "outputs": [],
   "source": [
    "\n",
    "\"\"\"This function compares two sequences, calling the mistmatch at each location\"\"\"\n",
    "\n",
    "# define a seq-seq comparison function\n",
    "def seq_to_seq(seq1, seq2, length):\n",
    "    \n",
    "    # we'll store a list of objects\n",
    "    results = []       \n",
    "    \n",
    "    # we start at 0\n",
    "    position = 0\n",
    "    \n",
    "    # iterate up to the end of the seqs\n",
    "    while position + length <= len(seq1):\n",
    "        \n",
    "        # isilate the region on each protein\n",
    "        current_peptide = seq1[position:position+length]\n",
    "        compare_peptide = seq2[position:position+length]\n",
    "        \n",
    "        # analyze those kmers \n",
    "        entry = mismatch(current_peptide, compare_peptide)\n",
    "        \n",
    "        # create and object to store the results\n",
    "        results_obj = Entry(\n",
    "                            seq   = current_peptide,\n",
    "                            pos   = position,\n",
    "                            score = entry,\n",
    "                            match = compare_peptide,\n",
    "                            antg  = antigenicity(current_peptide)\n",
    "                            )\n",
    "        \n",
    "        # capture objects created\n",
    "        results.append(results_obj)\n",
    "        \n",
    "        # increse the step\n",
    "        position += 1\n",
    "    return results"
   ]
  },
  {
   "cell_type": "markdown",
   "metadata": {},
   "source": [
    "This will allow us to see the properties of individual regions of the proteins. we call the sequence to sequence function on our aligned proteins, passing the instruction to look for epitopes 15 residues long. "
   ]
  },
  {
   "cell_type": "code",
   "execution_count": 89,
   "metadata": {},
   "outputs": [],
   "source": [
    "\n",
    "# call the function on our aligned proteins \n",
    "results = seq_to_seq(HV1MN,HV1VI, 15)"
   ]
  },
  {
   "cell_type": "markdown",
   "metadata": {},
   "source": [
    "## Now What? Narrowing Down The Search"
   ]
  },
  {
   "cell_type": "markdown",
   "metadata": {},
   "source": [
    "There are 839 objects in this list. For this to be useful, we will need to be able to apply some method of filtration. Fortunately, we can."
   ]
  },
  {
   "cell_type": "markdown",
   "metadata": {},
   "source": [
    "The paper \"Targeted Elimination of Immunodominant B Cells Drives the Germinal Center Reaction toward Subdominant Epitopes\", the inspiration behind the adoption of this tool, describes a search for subdominant epitopes that might be broadly useful against HIV, and describes a method for inhibition of the dominant epitopes to permit the development of subdominant epitopes. When discussing the potential role of bioinformatics in this goal, Prof. Sitkovsky mentioned the desire to \"select the best peptide among those in the target area\". This tool aims to equip the researchers to do so.\n",
    "\n",
    "It stands to reason that a good target in this context would need to be well conserved and also antigenic.\n",
    "\n",
    "Using this function, we can attempt to see what epitopes are both well conserved and likely to antigenic. For sake of argument, let's assume we want a 15mer in the first protein that has a mismatch of no more than 0.5 on our scale (meaning it is well conserved), but also has an antigenicity score of at least .2 (20% hyrdophilic residues). "
   ]
  },
  {
   "cell_type": "code",
   "execution_count": 90,
   "metadata": {
    "scrolled": true
   },
   "outputs": [
    {
     "name": "stdout",
     "output_type": "stream",
     "text": [
      "Index\t Seq\t\t\t Score   Atng \t Compared to\n",
      "39 \t WKEATTTLFCASDAK \t 0 \t 0.27 \t WKEATTTLFCASDAK \t\n",
      "40 \t KEATTTLFCASDAKA \t 0 \t 0.27 \t KEATTTLFCASDAKA \t\n",
      "101 \t DIISLWDQSLKPCVK \t 0 \t 0.27 \t DIISLWDQSLKPCVK \t\n",
      "569 \t WGIKQLQARVLAVER \t 0 \t 0.27 \t WGIKQLQARVLAVER \t\n",
      "570 \t GIKQLQARVLAVERY \t 0 \t 0.27 \t GIKQLQARVLAVERY \t\n",
      "571 \t IKQLQARVLAVERYL \t 0 \t 0.27 \t IKQLQARVLAVERYL \t\n",
      "572 \t KQLQARVLAVERYLK \t 0 \t 0.33 \t KQLQARVLAVERYLK \t\n",
      "573 \t QLQARVLAVERYLKD \t 0 \t 0.33 \t QLQARVLAVERYLKD \t\n",
      "574 \t LQARVLAVERYLKDQ \t 0 \t 0.33 \t LQARVLAVERYLKDQ \t\n",
      "575 \t QARVLAVERYLKDQQ \t 0 \t 0.33 \t QARVLAVERYLKDQQ \t\n",
      "576 \t ARVLAVERYLKDQQL \t 0 \t 0.33 \t ARVLAVERYLKDQQL \t\n",
      "577 \t RVLAVERYLKDQQLL \t 0 \t 0.33 \t RVLAVERYLKDQQLL \t\n",
      "578 \t VLAVERYLKDQQLLG \t 0 \t 0.27 \t VLAVERYLKDQQLLG \t\n",
      "579 \t LAVERYLKDQQLLGF \t 0.25 \t 0.27 \t LAVERYLKDQQLLGI \t\n",
      "580 \t AVERYLKDQQLLGFW \t 0.25 \t 0.27 \t AVERYLKDQQLLGIW \t\n",
      "581 \t VERYLKDQQLLGFWG \t 0.25 \t 0.27 \t VERYLKDQQLLGIWG \t\n",
      "582 \t ERYLKDQQLLGFWGC \t 0.25 \t 0.27 \t ERYLKDQQLLGIWGC \t\n",
      "820 \t VAEGTDRVIEVLQRA \t 0.25 \t 0.33 \t VAEGTDRIIEVLQRA \t\n",
      "821 \t AEGTDRVIEVLQRAG \t 0.25 \t 0.33 \t AEGTDRIIEVLQRAG \t\n",
      "822 \t EGTDRVIEVLQRAGR \t 0.25 \t 0.4 \t EGTDRIIEVLQRAGR \t\n",
      "823 \t GTDRVIEVLQRAGRA \t 0.25 \t 0.33 \t GTDRIIEVLQRAGRA \t\n"
     ]
    }
   ],
   "source": [
    "\n",
    "#print out a simple header\n",
    "print(\"Index\\t\",\"Seq\\t\\t\\t\", \"Score\",\"  Atng\", \"\\t Compared to\")\n",
    "\n",
    "# iterate though the results\n",
    "for item in results:\n",
    "    # if the score < 0.5 and the antigenicity > 25%\n",
    "    if item.score < 0.5 and item.antg > 0.25:\n",
    "        # print out the results \n",
    "        print(item.pos, \"\\t\", item.seq,\"\\t\",item.score,\n",
    "              \"\\t\", item.antg, \"\\t\",item.match, \"\\t\")\n",
    "    "
   ]
  },
  {
   "cell_type": "markdown",
   "metadata": {},
   "source": [
    "Looking at this readout, it is readily apparent that kmers starting in the region 572-577 are totally conserved (mismatch = 0) in both proteins, so looking in the regions 572-592 on the first protein would likely be a good place to start. Also, with the cost of only 0.25 mismatch points, the kmer starting at index 822 (EGTDRVIEVLQRAGR), is almost half highly antigenic regions. "
   ]
  },
  {
   "cell_type": "markdown",
   "metadata": {},
   "source": [
    "While this is a small example on two proteins, it could be readily applied again to different samples, as simply as reading in two new fastas, and could theoretically be applies to larger sets of proteins with some modifications."
   ]
  },
  {
   "cell_type": "markdown",
   "metadata": {},
   "source": [
    "### Note:\n",
    "Since the was written new functions have been added to find percent hydrophilic residues, percent structurally complex (aromatic) residues, and a simple weighted score of their mismatch of complex residues. "
   ]
  },
  {
   "cell_type": "markdown",
   "metadata": {},
   "source": [
    "Thank you for reading!\n",
    "\n",
    "Thadryan "
   ]
  }
 ],
 "metadata": {
  "kernelspec": {
   "display_name": "Python 3",
   "language": "python",
   "name": "python3"
  },
  "language_info": {
   "codemirror_mode": {
    "name": "ipython",
    "version": 3
   },
   "file_extension": ".py",
   "mimetype": "text/x-python",
   "name": "python",
   "nbconvert_exporter": "python",
   "pygments_lexer": "ipython3",
   "version": "3.5.3"
  }
 },
 "nbformat": 4,
 "nbformat_minor": 2
}
