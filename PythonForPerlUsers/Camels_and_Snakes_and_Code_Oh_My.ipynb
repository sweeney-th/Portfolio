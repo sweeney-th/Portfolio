{
 "cells": [
  {
   "cell_type": "markdown",
   "metadata": {},
   "source": [
    "This guide will give a Perl user a crash course in using Python. We'll be using Python 3 (Not Python 2 - more on the differences later, but if you know one you know the other with a few VERY minor changes).\n"
   ]
  },
  {
   "cell_type": "markdown",
   "metadata": {},
   "source": [
    "The first thing you'll notice is that Python doesn't use sigils or semicolons. The theory is that this makes it easier to read. It also uses indentation instead of braces to this end. There are also no pragmas (My...).\n"
   ]
  },
  {
   "cell_type": "markdown",
   "metadata": {},
   "source": [
    "### Saying Hello - printing strings\n"
   ]
  },
  {
   "cell_type": "markdown",
   "metadata": {},
   "source": [
    "Just printing strings to the console shows a few differences between Python and Perl. Python uses a function (which is more traditional in C-derived languages) while Perl uses a keyword. "
   ]
  },
  {
   "cell_type": "code",
   "execution_count": null,
   "metadata": {},
   "outputs": [],
   "source": [
    "# Python\n",
    "print(\"Hello Python\")"
   ]
  },
  {
   "cell_type": "raw",
   "metadata": {},
   "source": [
    "# Perl\n",
    "print \"Hello Perl\\n\";"
   ]
  },
  {
   "cell_type": "markdown",
   "metadata": {},
   "source": [
    "This assumes that, in most cases, you will want newlines after print statments. If you don't want one, you can add an \"end\" argument telling the print function to \"end on nothing\". If you wanted to end on something else, you can pass that instead."
   ]
  },
  {
   "cell_type": "code",
   "execution_count": 6,
   "metadata": {},
   "outputs": [
    {
     "name": "stdout",
     "output_type": "stream",
     "text": [
      "Hello World\n"
     ]
    }
   ],
   "source": [
    "# Python\n",
    "print(\"Hello \", end = \"\")\n",
    "print(\"World\")"
   ]
  },
  {
   "cell_type": "raw",
   "metadata": {},
   "source": [
    "# Perl\n",
    "print \"Hello \";\n",
    "print \"World\\n;"
   ]
  },
  {
   "cell_type": "markdown",
   "metadata": {},
   "source": [
    "### Storing a string in a variable \n"
   ]
  },
  {
   "cell_type": "markdown",
   "metadata": {},
   "source": [
    "The languages differ slightly in terms of storing and printing variables. Perl uses sigils to declare type (which is an non-traditional approach to a tradition idea)\n",
    "In [7]:\n",
    ", while Python inffers the type from context."
   ]
  },
  {
   "cell_type": "code",
   "execution_count": 7,
   "metadata": {},
   "outputs": [
    {
     "name": "stdout",
     "output_type": "stream",
     "text": [
      "Guido\n"
     ]
    }
   ],
   "source": [
    "name = \"Guido\"\n",
    "print(name)"
   ]
  },
  {
   "cell_type": "raw",
   "metadata": {},
   "source": [
    "my $name = \"Larry\\n\";\n",
    "print $name;"
   ]
  },
  {
   "cell_type": "markdown",
   "metadata": {},
   "source": [
    "### What else do I do with strings?\n",
    "Let's look at some simple string functions we're used to doing in Perl and see how we'd do them in Python. This program will declare a name, print the length of the name, print it in upper and lower case, and print each letter out using a for-loop."
   ]
  },
  {
   "cell_type": "raw",
   "metadata": {},
   "source": [
    "use strict;\n",
    "use warnings;\n",
    "\n",
    "# declare name\n",
    "my $name = \"Larry\";\n",
    "\n",
    "# find the length with the length() function\n",
    "print length($name), \"\\n\";\n",
    "\n",
    "# print upper and lower case using keywords\n",
    "print uc $name, \"\\n\";\n",
    "print lc $name, \"\\n\";\n",
    "\n",
    "# split the word so we can print each character\n",
    "foreach my $character (split(//, $name)) {\n",
    "    print $character, \"\\n\";\n",
    "}\n",
    "\n"
   ]
  },
  {
   "cell_type": "code",
   "execution_count": 12,
   "metadata": {},
   "outputs": [
    {
     "name": "stdout",
     "output_type": "stream",
     "text": [
      "GIUDO\n",
      "giudo\n",
      "G\n",
      "i\n",
      "u\n",
      "d\n",
      "o\n"
     ]
    }
   ],
   "source": [
    "# declare name\n",
    "name = \"Giudo\"\n",
    "\n",
    "# Find the length using the len() function\n",
    "len(name)\n",
    "\n",
    "# change the case using methods.\n",
    "print(name.upper())\n",
    "print(name.lower())\n",
    "\n",
    "# print each letter\n",
    "for letter in name:\n",
    "    print(letter)"
   ]
  },
  {
   "cell_type": "markdown",
   "metadata": {},
   "source": [
    "Differences to keep in mind for learning Python:\n",
    "\n",
    "    The function for the length of a string is called \"len()\", not \"length()\"\n",
    "    \n",
    "    The case change is done with methods (not keywords) built into the string type.\n",
    "        They're just called upper() and lower(). In general, things that manipulate\n",
    "        something will be built into it like this and are called with the .something()\n",
    "        syntax. The braces are there because it is a function that belongs to the \n",
    "        string class and it allows us to pass arguments to it if we want to\n",
    "    \n",
    "    The for-loop splits strings automatically\n",
    "    \n",
    "    You don't need to declare the character variable explicity\n",
    "    \n",
    "    You don't need to use braces.\n",
    "    \n",
    "    You DO need to have a \":\" character after the for\n",
    "    \n",
    "    You DO need to indent 1 tab to create the block under the for:\n",
    "    \n",
    "    "
   ]
  },
  {
   "cell_type": "markdown",
   "metadata": {},
   "source": [
    "We've introduced the for-loop, and that deserves a closer look. Notice that the for loop acts on letters, but I never delcared letters anywhere. This is a default variable, like $_ in Perl, which denotes incoming scalars. Python looks for the name of the variable after the word \"for\", and sets it to that string. This allows for the expressive, human-like syntax of \"For letter in name\". Note that program wold work fine if I called it:"
   ]
  },
  {
   "cell_type": "code",
   "execution_count": 13,
   "metadata": {},
   "outputs": [
    {
     "name": "stdout",
     "output_type": "stream",
     "text": [
      "G\n",
      "i\n",
      "u\n",
      "d\n",
      "o\n"
     ]
    }
   ],
   "source": [
    "for x in name:\n",
    "    print(x)"
   ]
  },
  {
   "cell_type": "markdown",
   "metadata": {},
   "source": [
    "...it's just customary to name it something readable and meaningful like in any good programming style. The for loop ends when the code at that indentation level ends. For example:"
   ]
  },
  {
   "cell_type": "code",
   "execution_count": 14,
   "metadata": {},
   "outputs": [
    {
     "name": "stdout",
     "output_type": "stream",
     "text": [
      "G\n",
      "Still going...\n",
      "i\n",
      "Still going...\n",
      "u\n",
      "Still going...\n",
      "d\n",
      "Still going...\n",
      "o\n",
      "Still going...\n"
     ]
    }
   ],
   "source": [
    "for letter in name:\n",
    "    print(letter)\n",
    "    print(\"Still going...\")"
   ]
  },
  {
   "cell_type": "markdown",
   "metadata": {},
   "source": [
    "If we move the other print statement back, it wouldn't be activated under each run through the loop. For example:"
   ]
  },
  {
   "cell_type": "code",
   "execution_count": 15,
   "metadata": {},
   "outputs": [
    {
     "name": "stdout",
     "output_type": "stream",
     "text": [
      "G\n",
      "i\n",
      "u\n",
      "d\n",
      "o\n",
      "Not still going\n"
     ]
    }
   ],
   "source": [
    "for letter in name:\n",
    "    print(letter)\n",
    "print(\"Not still going\")"
   ]
  },
  {
   "cell_type": "markdown",
   "metadata": {},
   "source": [
    "In Perl, this would be achieved like this, by putting something in or out of the braces, not the indentation level:"
   ]
  },
  {
   "cell_type": "code",
   "execution_count": null,
   "metadata": {},
   "outputs": [],
   "source": [
    "use strict;\n",
    "use warnings;\n",
    "\n",
    "my $name = \"Larry\";\n",
    "\n",
    "foreach my $character (split(//, $name))\n",
    "{\n",
    "    print $character, \"\\n\";\n",
    "    print \"Still Going, \\n\";\n",
    "}"
   ]
  },
  {
   "cell_type": "markdown",
   "metadata": {},
   "source": [
    "and ..."
   ]
  },
  {
   "cell_type": "code",
   "execution_count": null,
   "metadata": {},
   "outputs": [],
   "source": [
    "use strict;\n",
    "use warnings;\n",
    "\n",
    "my $name = \"Larry\";\n",
    "\n",
    "foreach my $character (split(//, $name))\n",
    "{\n",
    "    print $character, \"\\n\";\n",
    "}\n",
    "print \"Not Still Going\""
   ]
  },
  {
   "cell_type": "markdown",
   "metadata": {},
   "source": [
    "### Comments "
   ]
  },
  {
   "cell_type": "markdown",
   "metadata": {},
   "source": [
    "By now you've probably notice the the \"#\" is used for comments in Python the same way is "
   ]
  },
  {
   "cell_type": "markdown",
   "metadata": {},
   "source": [
    "\n",
    "\n",
    "### Saying Hello - printing strings\n",
    "# Python 3 uses a print function instead of a print keyword like Perl (or Python 2 - it's one of the few differences)\n",
    "# It doesn't require semi-colons, pragmas (my ...) and includes they newline for you automatically by default\n",
    "\n",
    "# Perl\n",
    "# print \"Hello Python\\n\";\n",
    "\n",
    "print(\"Hello Python\")\n",
    "\n",
    "\n",
    "\n",
    "\n",
    "\n",
    "# in Perl, this would look like this:\n",
    "# print \"Hello \"; # exclude the newline\n",
    "# print \"World\\n\"\n",
    "###################################################################################################\n",
    "\n",
    "\n",
    "# Perl\n",
    "\n",
    "# use strict; \n",
    "# use warnings;\n",
    "# my $name = \"Larry\"\n",
    "# print name, \"\\n\";\n",
    "\n",
    "### What else can you do with strings?\n",
    "\n",
    "\n",
    "\n",
    "# This introduces a few key Python concepts.\n",
    "# First and most obviously, there are no braces, simply one tab indentation under the for.\n",
    "# Also notice the \":\". That is where the first brace would go in Perl. No end character is \n",
    "# needed; the end of the for loop is when the indentation stops. We will go into more detail\n",
    "# later on. The other thing to notice is that the word \"letter\" is never declared or defined \n",
    "# explicitly ie I never said letter = \"x\". This is a default variable, like when Perl uses \n",
    "# _$ to represent an incoming scalar. The variable letter is defined implicity in the for-loop\n",
    "# This would run just the same if I wrote\n",
    "\n",
    "for x in name:\n",
    "\tprint(x)\n",
    "\n",
    "# or...\n",
    "\n",
    "for OBNOXIOUSNAME in name:\n",
    "\tprint(OBNOXIOUSNAME)\n",
    "\n",
    "# it is just considered good style to use something that makes it clear what is happening, just\n",
    "# as variables would be given meaningful names in any other language. The last thing it notice \n",
    "# is that Python split the word into letters for us automatically. It does this by default when \n",
    "# you're acting on each character in a string. In the name of context, here are full, running,\n",
    "# scripts of the two languges\n",
    "\n",
    "name = \"Bjarne\"\n",
    "for letter in name:\n",
    "\tprint(letter)\n",
    "\n",
    "# use strict;\n",
    "# use warnings;\n",
    "\n",
    "# my $name = \"Larry\";\n",
    "\n",
    "# foreach my $character (split(//, $name))\n",
    "# {\n",
    "# \tprint $character, \"\\n\";\n",
    "# }\n",
    "\n",
    "\n",
    "####################################################################################################\n",
    "### Storing numbers in a variable\n",
    "# you can also store numbers in variables without using a sigil because Python has \"type inference\"\n",
    "# meaning that it guesses what type of data you are using ($, @, or % in perl) by context. \n",
    "number = 10\n",
    "print(number)\n",
    "\n",
    "# you can increment a number using the += shorthand\n",
    "number += 1\n",
    "print(number)\n",
    "\n",
    "# of course, it doesn't need to be a 1\n",
    "number += 5\n",
    "print(number)\n",
    "\n",
    "# or an addition\n",
    "number -= 10\n",
    "print(number)\n",
    "\n",
    "\n",
    "### Some more notes on typing \n",
    "# Python's type inference means that you don't need to worry about types most of the time.\n",
    "# In any language though, it is somtimes important to know what type of data you are working\n",
    "# with, so you can pass things correctly etc. Python has a type() function for this\n",
    "\n",
    "integer = 10\n",
    "string = \"Greetings!\"\n",
    "floating = 1.5\n",
    "\n",
    "print(type(int))\n",
    "print(type(str))\n",
    "print(type(floating))\n",
    "\n",
    "# If you've never seen floats before, they are simply decimal number (they require more memory to store)\n",
    "# which is why languages make the distinction). Perl is quirky in this regard; most mainstream, C-derived\n",
    "# languges have the float type so it is good to be familiar with. Python makes then easy to deal with, however.\n",
    "# if you want to comvert between floats and integers (some programs require you to, just use the functions)\n",
    "\n",
    "number = 15\n",
    "print(type(number))\n",
    "number = float(number)\n",
    "print(type(number))\n",
    "\n",
    "# Conviniently, you CAN add and mutiply integers and floats in Python. It will inffer what ou are doing:\n",
    "\n",
    "x = 1.5\n",
    "y = 2\n",
    "z = x * y \n",
    "print(z)\n",
    "\n",
    "# This doesn't come up too often but it is good to know. What DOES come up fairly often is \n",
    "# strings being mistaken as integers in data you get from a csv or a user entered value. They \n",
    "# might enter the character \"1\" not the number 1 (I know this is a little confusing, so I usually\n",
    "# think of \"1\" and a \"picture of the number one\" like a ahcaracter, and 1 as te VALUE one.) Python\n",
    "# has an easy way of dealing with this. This script would cause an error if there was no conversion \n",
    "\n",
    "d = \"1\"\n",
    "type(d)\n",
    "number = int(d)\n",
    "print(type(d))\n",
    "print( d * 5)\n",
    "\n",
    "\n",
    "### lists\n",
    "# arrays are called lists in Python, and work in very similar ways. T"
   ]
  }
 ],
 "metadata": {
  "kernelspec": {
   "display_name": "Python 3",
   "language": "python",
   "name": "python3"
  },
  "language_info": {
   "codemirror_mode": {
    "name": "ipython",
    "version": 3
   },
   "file_extension": ".py",
   "mimetype": "text/x-python",
   "name": "python",
   "nbconvert_exporter": "python",
   "pygments_lexer": "ipython3",
   "version": "3.5.3"
  }
 },
 "nbformat": 4,
 "nbformat_minor": 2
}
