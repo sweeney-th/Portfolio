{
 "cells": [
  {
   "cell_type": "markdown",
   "metadata": {},
   "source": [
    "This guide will give a Perl user a crash course in using Python. We'll be using Python 3 (Not Python 2 - more on the differences later, but if you know one you know the other with a few VERY minor changes).\n"
   ]
  },
  {
   "cell_type": "markdown",
   "metadata": {},
   "source": [
    "The first thing you'll notice is that Python doesn't use sigils or semicolons. The theory is that this makes it easier to read. It also uses indentation instead of braces to this end. There are also no pragmas (My...).\n",
    "\n",
    "Note: If we come accross something I feel I should explain in Python but we never did in Perl, there might only be a Python example.\n"
   ]
  },
  {
   "cell_type": "markdown",
   "metadata": {},
   "source": [
    "# Saying Hello - printing and manipulating strings\n"
   ]
  },
  {
   "cell_type": "markdown",
   "metadata": {},
   "source": [
    "Just printing strings to the console shows a few differences between Python and Perl. Python uses a function (which is more traditional in C-derived languages) while Perl uses a keyword. "
   ]
  },
  {
   "cell_type": "code",
   "execution_count": 513,
   "metadata": {},
   "outputs": [
    {
     "name": "stdout",
     "output_type": "stream",
     "text": [
      "Hello Python\n"
     ]
    }
   ],
   "source": [
    "# Python\n",
    "print(\"Hello Python\")"
   ]
  },
  {
   "cell_type": "markdown",
   "metadata": {},
   "source": [
    "(see Perl 1)"
   ]
  },
  {
   "cell_type": "markdown",
   "metadata": {},
   "source": [
    "This assumes that, in most cases, you will want newlines after print statments. If you don't want one, you can add an \"end\" argument telling the print function to \"end on nothing\". If you wanted to end on something else, you can pass that instead."
   ]
  },
  {
   "cell_type": "code",
   "execution_count": 514,
   "metadata": {},
   "outputs": [
    {
     "name": "stdout",
     "output_type": "stream",
     "text": [
      "Hello World\n"
     ]
    }
   ],
   "source": [
    "# Python\n",
    "print(\"Hello \", end = \"\")\n",
    "print(\"World\")"
   ]
  },
  {
   "cell_type": "markdown",
   "metadata": {},
   "source": [
    "(See Perl 2)"
   ]
  },
  {
   "cell_type": "markdown",
   "metadata": {},
   "source": [
    "### Storing a string in a variable \n"
   ]
  },
  {
   "cell_type": "markdown",
   "metadata": {},
   "source": [
    "The languages differ slightly in terms of storing and printing variables. Perl uses sigils to declare type (which is an non-traditional approach to a traditional idea) while Python inffers the type from context. Also note that Python does not distinguish between double or single quotes as long as you are consistent. "
   ]
  },
  {
   "cell_type": "code",
   "execution_count": 515,
   "metadata": {},
   "outputs": [
    {
     "name": "stdout",
     "output_type": "stream",
     "text": [
      "Guido\n"
     ]
    }
   ],
   "source": [
    "name = \"Guido\"\n",
    "print(name)"
   ]
  },
  {
   "cell_type": "markdown",
   "metadata": {},
   "source": [
    "(See Perl 3)"
   ]
  },
  {
   "cell_type": "markdown",
   "metadata": {},
   "source": [
    "### Indexing strings\n",
    "Python has a largely traditional apprach to string indexing"
   ]
  },
  {
   "cell_type": "code",
   "execution_count": 516,
   "metadata": {},
   "outputs": [
    {
     "name": "stdout",
     "output_type": "stream",
     "text": [
      "J\n"
     ]
    }
   ],
   "source": [
    "name = \"Jermaine\"\n",
    "\n",
    "# use braces for indexing\n",
    "print(name[0])"
   ]
  },
  {
   "cell_type": "code",
   "execution_count": 517,
   "metadata": {},
   "outputs": [
    {
     "name": "stdout",
     "output_type": "stream",
     "text": [
      "Jerm\n"
     ]
    }
   ],
   "source": [
    "# printing in a range - it doesn't include the last number - this gives 0,1,2,3. \"Up to but not including\"\n",
    "print(name[0:4])"
   ]
  },
  {
   "cell_type": "code",
   "execution_count": 518,
   "metadata": {},
   "outputs": [
    {
     "name": "stdout",
     "output_type": "stream",
     "text": [
      "er\n"
     ]
    }
   ],
   "source": [
    "# doesn't have to be zero \n",
    "print(name[1:3])"
   ]
  },
  {
   "cell_type": "code",
   "execution_count": 519,
   "metadata": {},
   "outputs": [
    {
     "name": "stdout",
     "output_type": "stream",
     "text": [
      "Jermaine\n"
     ]
    }
   ],
   "source": [
    "# shorthand = from x onward\n",
    "print(name[0:])"
   ]
  },
  {
   "cell_type": "code",
   "execution_count": 520,
   "metadata": {},
   "outputs": [
    {
     "name": "stdout",
     "output_type": "stream",
     "text": [
      "Jerma\n"
     ]
    }
   ],
   "source": [
    "# up to 5\n",
    "print(name[:5])"
   ]
  },
  {
   "cell_type": "markdown",
   "metadata": {},
   "source": [
    "### Finding Unique Characters in a String"
   ]
  },
  {
   "cell_type": "markdown",
   "metadata": {},
   "source": [
    "Python has a set() function that returns a 'set' of unique values of a string"
   ]
  },
  {
   "cell_type": "code",
   "execution_count": 521,
   "metadata": {},
   "outputs": [
    {
     "name": "stdout",
     "output_type": "stream",
     "text": [
      "{'n', 'r', 'T', 'd', 'y', 'a', 'h'}\n"
     ]
    }
   ],
   "source": [
    "string = \"Thadryan\"\n",
    "set_string = set(string)\n",
    "print(set_string)"
   ]
  },
  {
   "cell_type": "markdown",
   "metadata": {},
   "source": [
    "A quick look didn't find anything on how Perl would do this but there must be something out there.\n"
   ]
  },
  {
   "cell_type": "markdown",
   "metadata": {},
   "source": [
    "### Long Strings\n",
    "Python uses triple quotes for long strings. This isn't used too much but can sometime be useful for printing error messages and that sort of thing. "
   ]
  },
  {
   "cell_type": "code",
   "execution_count": 522,
   "metadata": {},
   "outputs": [
    {
     "name": "stdout",
     "output_type": "stream",
     "text": [
      "\n",
      "\n",
      "                    Hey there everyone I hope you have a great holiday!\n",
      "                    \n",
      "                    I think I will see some of you in Programming next term.\"\n",
      "                    \n",
      "                    Not Chuck though. \n",
      "                    \n",
      "                    Peace out! \n"
     ]
    }
   ],
   "source": [
    "long_ass_string = \"\"\"\n",
    "\n",
    "                    Hey there everyone I hope you have a great holiday!\n",
    "                    \n",
    "                    I think I will see some of you in Programming next term.\"\n",
    "                    \n",
    "                    Not Chuck though. \n",
    "                    \n",
    "                    Peace out! \"\"\"\n",
    "print(long_ass_string)"
   ]
  },
  {
   "cell_type": "markdown",
   "metadata": {},
   "source": [
    "### Length and Range of Strings\n"
   ]
  },
  {
   "cell_type": "markdown",
   "metadata": {},
   "source": [
    "Python has a function called len() that returns the number of letters in a string as an integer. \n",
    "\n",
    "The range returns the range on indeces"
   ]
  },
  {
   "cell_type": "code",
   "execution_count": 523,
   "metadata": {},
   "outputs": [
    {
     "name": "stdout",
     "output_type": "stream",
     "text": [
      "7\n",
      "<class 'range'>\n"
     ]
    }
   ],
   "source": [
    "string = \"Gambino\"\n",
    "print(len(string))\n",
    "\n",
    "# this is often used when something need to be done to each letter\n",
    "print(type(range(len(string))))"
   ]
  },
  {
   "cell_type": "markdown",
   "metadata": {},
   "source": [
    "### Concatenating Strings\n",
    "\n",
    "You can add strings together with the + sign"
   ]
  },
  {
   "cell_type": "code",
   "execution_count": 524,
   "metadata": {},
   "outputs": [
    {
     "name": "stdout",
     "output_type": "stream",
     "text": [
      "BrittDaniel\n"
     ]
    }
   ],
   "source": [
    "first = \"Britt\"\n",
    "last = \"Daniel\"\n",
    "\n",
    "print(first+last)"
   ]
  },
  {
   "cell_type": "markdown",
   "metadata": {},
   "source": [
    "### What else do I do with strings?\n",
    "Let's look at some simple string functions we're used to doing in Perl and see how we'd do them in Python. This program will declare a name, print the length of the name, print it in upper and lower case, and print each letter out using a for-loop."
   ]
  },
  {
   "cell_type": "markdown",
   "metadata": {},
   "source": [
    "By now you've probably notice the the \"#\" is used for comments in Python the same way you can with Perl. Python also adds a special syntax for really long strings. They often appear at the tope of a program for author information, etc."
   ]
  },
  {
   "cell_type": "markdown",
   "metadata": {},
   "source": [
    "Perl"
   ]
  },
  {
   "cell_type": "markdown",
   "metadata": {},
   "source": [
    "(see Perl 4)\n"
   ]
  },
  {
   "cell_type": "markdown",
   "metadata": {},
   "source": [
    "Python"
   ]
  },
  {
   "cell_type": "code",
   "execution_count": 525,
   "metadata": {},
   "outputs": [
    {
     "name": "stdout",
     "output_type": "stream",
     "text": [
      "GIUDO\n",
      "giudo\n",
      "G\n",
      "i\n",
      "u\n",
      "d\n",
      "o\n"
     ]
    }
   ],
   "source": [
    "# declare name\n",
    "name = \"Giudo\"\n",
    "\n",
    "# Find the length using the len() function\n",
    "len(name)\n",
    "\n",
    "# change the case using methods.\n",
    "print(name.upper())\n",
    "print(name.lower())\n",
    "\n",
    "# print each letter\n",
    "for letter in name:\n",
    "    print(letter)"
   ]
  },
  {
   "cell_type": "markdown",
   "metadata": {},
   "source": [
    "Differences to keep in mind for learning Python:\n",
    "\n",
    "    The function for the length of a string is called \"len()\", not \"length()\"\n",
    "    \n",
    "    The case change is done with methods (not keywords) built into the string type.\n",
    "        They're just called upper() and lower(). In general, things that manipulate\n",
    "        something will be built into it like this and are called with the .something()\n",
    "        syntax. The braces are there because it is a function that belongs to the \n",
    "        string class and it allows us to pass arguments to it if we want to\n",
    "    \n",
    "    The for-loop splits strings automatically\n",
    "    \n",
    "    You don't need to declare the character variable explicity\n",
    "    \n",
    "    You don't need to use braces.\n",
    "    \n",
    "    You DO need to have a \":\" character after the for\n",
    "    \n",
    "    You DO need to indent 1 tab to create the block under the for:\n",
    "    \n",
    "    "
   ]
  },
  {
   "cell_type": "markdown",
   "metadata": {},
   "source": [
    "### Comments"
   ]
  },
  {
   "cell_type": "code",
   "execution_count": 526,
   "metadata": {},
   "outputs": [
    {
     "name": "stdout",
     "output_type": "stream",
     "text": [
      "Hey there, here is some code\n"
     ]
    }
   ],
   "source": [
    "\"\"\"\n",
    "\n",
    "Here we can make comments to our hearts content.\n",
    "\n",
    "It's fun to type and not worry about putting new comments in every line\n",
    "\n",
    "It reflects the syntax used for long strings. \n",
    "\n",
    "Generally speaking, Python is very consistent in its syntax\n",
    "\n",
    "\"\"\"\n",
    "\n",
    "\n",
    "print(\"Hey there, here is some code\")"
   ]
  },
  {
   "cell_type": "markdown",
   "metadata": {},
   "source": [
    "Perl:\n",
    "\n",
    "If you've never seen it, there is a way to do it in Perl..."
   ]
  },
  {
   "cell_type": "markdown",
   "metadata": {},
   "source": [
    "=pod\n",
    "\n",
    "THERE IS NOTHING GOING ON IN HERE\n",
    "\n",
    "=cut"
   ]
  },
  {
   "cell_type": "markdown",
   "metadata": {},
   "source": [
    "### Control Flow"
   ]
  },
  {
   "cell_type": "markdown",
   "metadata": {},
   "source": [
    "We've introduced the for-loop, and that deserves a closer look. Notice that the for loop acts on \"letters\", but I never delcared \"letters\" anywhere. This is a default variable, like $_ in Perl, which denotes incoming scalars. Python looks for the name of the variable after the word \"for\", and sets it to that string. This allows for the expressive, human-like syntax of \"For letter in name\". Note that program would work fine if I called it:"
   ]
  },
  {
   "cell_type": "code",
   "execution_count": 527,
   "metadata": {},
   "outputs": [
    {
     "name": "stdout",
     "output_type": "stream",
     "text": [
      "G\n",
      "i\n",
      "u\n",
      "d\n",
      "o\n"
     ]
    }
   ],
   "source": [
    "for x in name:\n",
    "    print(x)"
   ]
  },
  {
   "cell_type": "markdown",
   "metadata": {},
   "source": [
    "...it's just customary to name it something readable and meaningful like in any good programming style. \n",
    "The for loop ends when the code at that indentation level ends. For example:"
   ]
  },
  {
   "cell_type": "markdown",
   "metadata": {},
   "source": [
    "The for loop ends when the code at that indentation level ends. For example:"
   ]
  },
  {
   "cell_type": "code",
   "execution_count": 528,
   "metadata": {},
   "outputs": [
    {
     "name": "stdout",
     "output_type": "stream",
     "text": [
      "G\n",
      "Still going...\n",
      "i\n",
      "Still going...\n",
      "u\n",
      "Still going...\n",
      "d\n",
      "Still going...\n",
      "o\n",
      "Still going...\n"
     ]
    }
   ],
   "source": [
    "for letter in name:\n",
    "    print(letter)\n",
    "    print(\"Still going...\")"
   ]
  },
  {
   "cell_type": "markdown",
   "metadata": {},
   "source": [
    "If we move the other print statement back, it wouldn't be activated under each run through the loop. For example:"
   ]
  },
  {
   "cell_type": "code",
   "execution_count": 529,
   "metadata": {},
   "outputs": [
    {
     "name": "stdout",
     "output_type": "stream",
     "text": [
      "G\n",
      "i\n",
      "u\n",
      "d\n",
      "o\n",
      "Not still going\n"
     ]
    }
   ],
   "source": [
    "for letter in name:\n",
    "    print(letter)\n",
    "print(\"Not still going\")"
   ]
  },
  {
   "cell_type": "markdown",
   "metadata": {},
   "source": [
    "In Perl, this would be achieved like this, by putting something in or out of the braces, not the indentation level:"
   ]
  },
  {
   "cell_type": "markdown",
   "metadata": {},
   "source": [
    "(See Perl 5 and 6)"
   ]
  },
  {
   "cell_type": "markdown",
   "metadata": {},
   "source": [
    "### If and Else"
   ]
  },
  {
   "cell_type": "markdown",
   "metadata": {},
   "source": [
    "Python's if/elif/else system is fairly straightforward other than using the indentation instead of the braces again. (elif is used in the middle of the flow telling it to kepep going until it finds and \"else\")\n",
    "\n",
    "This is how you'd see if a number is above ten, lower than ten, and if neither of those are true, decide that is it ten."
   ]
  },
  {
   "cell_type": "code",
   "execution_count": 530,
   "metadata": {},
   "outputs": [
    {
     "name": "stdout",
     "output_type": "stream",
     "text": [
      "The number is ten\n"
     ]
    }
   ],
   "source": [
    "number = 10\n",
    "\n",
    "if number > 10:\n",
    "    print(\"It is over ten\")\n",
    "elif number < 10:\n",
    "    print(\"It is lower than ten\")\n",
    "else:\n",
    "    print(\"The number is ten\")"
   ]
  },
  {
   "cell_type": "markdown",
   "metadata": {},
   "source": [
    "For reference, the Perl code would look like this:"
   ]
  },
  {
   "cell_type": "raw",
   "metadata": {},
   "source": [
    "(see Perl 7)"
   ]
  },
  {
   "cell_type": "markdown",
   "metadata": {},
   "source": [
    "### While\n",
    "\n",
    "Python supports traditional while looping "
   ]
  },
  {
   "cell_type": "code",
   "execution_count": 531,
   "metadata": {},
   "outputs": [
    {
     "name": "stdout",
     "output_type": "stream",
     "text": [
      "Liftoff in  10\n",
      "Liftoff in  9\n",
      "Liftoff in  8\n",
      "Liftoff in  7\n",
      "Liftoff in  6\n",
      "Liftoff in  5\n",
      "Liftoff in  4\n",
      "Liftoff in  3\n",
      "Liftoff in  2\n",
      "Liftoff in  1\n"
     ]
    }
   ],
   "source": [
    "counter = 10\n",
    "\n",
    "while counter > 0:\n",
    "    print(\"Liftoff in \", counter) # notice the ptint statements uses a comma here\n",
    "    counter -= 1"
   ]
  },
  {
   "cell_type": "markdown",
   "metadata": {},
   "source": [
    "### Booleans and asserts "
   ]
  },
  {
   "cell_type": "markdown",
   "metadata": {},
   "source": [
    "Python uses typical booleans with the first letter capitalized. It also has a handy feature called assert() that returns a boolean of a comparison. If you call an assert and it is True, nothng will happen. If it is false, it will throw an error."
   ]
  },
  {
   "cell_type": "code",
   "execution_count": 532,
   "metadata": {},
   "outputs": [
    {
     "name": "stdout",
     "output_type": "stream",
     "text": [
      "True\n",
      "False\n",
      "1st: No error\n",
      "2nd: No error\n"
     ]
    }
   ],
   "source": [
    "x = 10\n",
    "\n",
    "print(x < 100)\n",
    "print(x > 100)\n",
    "\n",
    "assert(x > 9) # this is true\n",
    "print(\"1st: No error\")\n",
    "assert(x > 8)\n",
    "print(\"2nd: No error\")\n",
    "\n",
    "# uncomment the line before this to see the error\n",
    "#assert(x > 12) # this is not"
   ]
  },
  {
   "cell_type": "markdown",
   "metadata": {},
   "source": [
    "### Comparisions "
   ]
  },
  {
   "cell_type": "markdown",
   "metadata": {},
   "source": [
    "Python uses the traditional !=, ==, <, >, <=. >= operators. This will iterate though the range give and print anything that isn't 7."
   ]
  },
  {
   "cell_type": "code",
   "execution_count": 533,
   "metadata": {},
   "outputs": [
    {
     "name": "stdout",
     "output_type": "stream",
     "text": [
      "0\n",
      "1\n",
      "2\n",
      "3\n",
      "4\n",
      "5\n",
      "6\n",
      "8\n",
      "9\n"
     ]
    }
   ],
   "source": [
    "for number in range(10): # you can pass a single number to the range function and it will start with 0\n",
    "    if number != 7:\n",
    "        print(number)"
   ]
  },
  {
   "cell_type": "code",
   "execution_count": 534,
   "metadata": {},
   "outputs": [
    {
     "name": "stdout",
     "output_type": "stream",
     "text": [
      "The strings match\n"
     ]
    }
   ],
   "source": [
    "y = \"Andre 3k\"\n",
    "x = \"Andre 3k\"\n",
    "\n",
    "if x == y:\n",
    "    print(\"The strings match\")\n",
    "else:\n",
    "    print(\"The strings don't match\")"
   ]
  },
  {
   "cell_type": "markdown",
   "metadata": {},
   "source": [
    "### Math\n",
    "Python takes a typical approach to math"
   ]
  },
  {
   "cell_type": "code",
   "execution_count": 535,
   "metadata": {},
   "outputs": [
    {
     "name": "stdout",
     "output_type": "stream",
     "text": [
      "1 + 1 =  2\n",
      "2 * 3 =  6\n",
      "6 / 4 =  1.7142857142857142\n",
      "6 // 4 =   1.0\n",
      "5 ** 5 3125\n"
     ]
    }
   ],
   "source": [
    "print(\"1 + 1 = \", 1 + 1)\n",
    "print(\"2 * 3 = \", 2 * 3)\n",
    "print(\"6 / 4 = \", 6 / 3.5)\n",
    "\n",
    "# floor division rounds to lowest integer\n",
    "print(\"6 // 4 =  \", 6 // 3.5)\n",
    "print(\"5 ** 5\", 5 ** 5)"
   ]
  },
  {
   "cell_type": "markdown",
   "metadata": {},
   "source": [
    "### Some notes on typing \n",
    "Python's type inference means that you don't need to worry about types most of the time. In any language though, it is somtimes important to know what type of data you are working\n",
    "with, so you can pass things correctly etc. Python has a type() function for this"
   ]
  },
  {
   "cell_type": "code",
   "execution_count": 536,
   "metadata": {},
   "outputs": [
    {
     "name": "stdout",
     "output_type": "stream",
     "text": [
      "<class 'int'>\n",
      "<class 'str'>\n",
      "<class 'float'>\n"
     ]
    }
   ],
   "source": [
    "integer = 10\n",
    "string = \"Greetings!\"\n",
    "floating = 1.5\n",
    "\n",
    "print(type(integer))\n",
    "print(type(string))\n",
    "print(type(floating))"
   ]
  },
  {
   "cell_type": "markdown",
   "metadata": {},
   "source": [
    "If you've never seen floats before, they are simply decimal number (they require more memory to store, which is why languages make the distinction). Perl is quirky in this regard; most mainstream, C-derived languges have the float type so it is good to be familiar with. Python makes then easy to deal with, however. If you want to convert between floats and integers (some programs require you to, just use the functions)"
   ]
  },
  {
   "cell_type": "code",
   "execution_count": 537,
   "metadata": {},
   "outputs": [
    {
     "name": "stdout",
     "output_type": "stream",
     "text": [
      "<class 'int'>\n",
      "<class 'float'>\n"
     ]
    }
   ],
   "source": [
    "number = 15\n",
    "print(type(number))\n",
    "number = float(number)\n",
    "print(type(number))"
   ]
  },
  {
   "cell_type": "markdown",
   "metadata": {},
   "source": [
    "Conviniently, you CAN add and mutiply integers and floats in Python. It will inffer what you are doing:"
   ]
  },
  {
   "cell_type": "code",
   "execution_count": 538,
   "metadata": {},
   "outputs": [
    {
     "name": "stdout",
     "output_type": "stream",
     "text": [
      "3.0\n"
     ]
    }
   ],
   "source": [
    "x = 1.5\n",
    "y = 2\n",
    "z = x * y \n",
    "print(z)"
   ]
  },
  {
   "cell_type": "markdown",
   "metadata": {},
   "source": [
    "This doesn't come up too often but it is good to know. What DOES come up fairly often is strings being mistaken as integers in data you get from a csv or a user entered value. They might enter the character \"1\" not the number 1 (I know this is a little confusing, so I usually think of \"1\" and a \"picture of the number one\" like a character, and 1 as the VALUE one.) Typing will become a bigger deal if you end up learning C++ or Java, so it is helpful to keep it in mind when writing Python even if you don't need to per se. Python has an easy way of dealing with this."
   ]
  },
  {
   "cell_type": "code",
   "execution_count": 539,
   "metadata": {},
   "outputs": [
    {
     "name": "stdout",
     "output_type": "stream",
     "text": [
      "Five d's: 11111\n"
     ]
    }
   ],
   "source": [
    "# d as a string.  (if you multiply it just prints it the number of times you multiplied it by)\n",
    "d = \"1\"\n",
    "print(\"Five d's:\", 5 * d)\n",
    "\n",
    "# but you can't add a number to a picture!\n",
    "\n",
    "# uncomment to see the error\n",
    "# print(5 + d)"
   ]
  },
  {
   "cell_type": "code",
   "execution_count": 540,
   "metadata": {},
   "outputs": [
    {
     "name": "stdout",
     "output_type": "stream",
     "text": [
      "<class 'int'>\n",
      "5\n"
     ]
    }
   ],
   "source": [
    "# convert it to the int type wit the int() function \n",
    "d = int(d)\n",
    "\n",
    "# now we can use it \n",
    "print(type(d))\n",
    "print(d * 5)"
   ]
  },
  {
   "cell_type": "markdown",
   "metadata": {},
   "source": [
    "The conversion functions are int(), float(), str(), for integers, floats, and strings. "
   ]
  },
  {
   "cell_type": "markdown",
   "metadata": {},
   "source": [
    "### Lists\n",
    "\n",
    "Python calls arrays \"lists\". They are defined using square brackets and indexed the same way strings are.\n"
   ]
  },
  {
   "cell_type": "code",
   "execution_count": 541,
   "metadata": {},
   "outputs": [
    {
     "name": "stdout",
     "output_type": "stream",
     "text": [
      "['Shark', 'Smile', 'Big', 'Thief']\n"
     ]
    }
   ],
   "source": [
    "# define list \n",
    "my_list = [\"Shark\", \"Smile\", \"Big\", \"Thief\"]\n",
    "print(my_list)"
   ]
  },
  {
   "cell_type": "code",
   "execution_count": 542,
   "metadata": {},
   "outputs": [
    {
     "name": "stdout",
     "output_type": "stream",
     "text": [
      "Shark\n"
     ]
    }
   ],
   "source": [
    "print(my_list[0])"
   ]
  },
  {
   "cell_type": "code",
   "execution_count": 543,
   "metadata": {},
   "outputs": [
    {
     "name": "stdout",
     "output_type": "stream",
     "text": [
      "['Shark', 'Smile']\n"
     ]
    }
   ],
   "source": [
    "print(my_list[0:2])"
   ]
  },
  {
   "cell_type": "markdown",
   "metadata": {},
   "source": [
    "They can be added to and removed from using append and remove (Perl would use push and pop). Appended items appear at the end of the list. "
   ]
  },
  {
   "cell_type": "code",
   "execution_count": 544,
   "metadata": {},
   "outputs": [
    {
     "name": "stdout",
     "output_type": "stream",
     "text": [
      "['Shark', 'Smile', 'Big', 'Thief', 'Baby']\n"
     ]
    }
   ],
   "source": [
    "my_list.append(\"Baby\")\n",
    "print(my_list)"
   ]
  },
  {
   "cell_type": "markdown",
   "metadata": {},
   "source": [
    "You can also access things by name to do any of the previous operations on."
   ]
  },
  {
   "cell_type": "code",
   "execution_count": 545,
   "metadata": {},
   "outputs": [
    {
     "name": "stdout",
     "output_type": "stream",
     "text": [
      "['Shark', 'Smile', 'Big', 'Thief']\n"
     ]
    }
   ],
   "source": [
    "my_list.remove(\"Baby\")\n",
    "print(my_list)"
   ]
  },
  {
   "cell_type": "markdown",
   "metadata": {},
   "source": [
    "Lists can be sorted. It will go by alphabetical order for words."
   ]
  },
  {
   "cell_type": "code",
   "execution_count": 546,
   "metadata": {},
   "outputs": [
    {
     "name": "stdout",
     "output_type": "stream",
     "text": [
      "['Big', 'Shark', 'Smile', 'Thief']\n"
     ]
    }
   ],
   "source": [
    "print(sorted(my_list))"
   ]
  },
  {
   "cell_type": "markdown",
   "metadata": {},
   "source": [
    "It also works on numbers."
   ]
  },
  {
   "cell_type": "code",
   "execution_count": 547,
   "metadata": {},
   "outputs": [
    {
     "name": "stdout",
     "output_type": "stream",
     "text": [
      "[4, 3, 5, 6, 7, 2, 9, 1]\n",
      "[1, 2, 3, 4, 5, 6, 7, 9]\n"
     ]
    }
   ],
   "source": [
    "numbers = [4,3,5,6,7,2,9,1]\n",
    "print(numbers)\n",
    "print(sorted(numbers))"
   ]
  },
  {
   "cell_type": "markdown",
   "metadata": {},
   "source": [
    "There are optional arguments if needed, such as reverse."
   ]
  },
  {
   "cell_type": "code",
   "execution_count": 548,
   "metadata": {},
   "outputs": [
    {
     "name": "stdout",
     "output_type": "stream",
     "text": [
      "[9, 7, 6, 5, 4, 3, 2, 1]\n"
     ]
    }
   ],
   "source": [
    "print(sorted(numbers, reverse = True))"
   ]
  },
  {
   "cell_type": "markdown",
   "metadata": {},
   "source": [
    "The len() function, when called on a list, will return the number of entries.\n",
    "There are also min() and max() functions, as well as sum()."
   ]
  },
  {
   "cell_type": "code",
   "execution_count": 549,
   "metadata": {},
   "outputs": [
    {
     "name": "stdout",
     "output_type": "stream",
     "text": [
      "8\n",
      "9\n",
      "1\n",
      "37\n"
     ]
    }
   ],
   "source": [
    "print(len(numbers))\n",
    "print(max(numbers))\n",
    "print(min(numbers))\n",
    "print(sum(numbers))"
   ]
  },
  {
   "cell_type": "markdown",
   "metadata": {},
   "source": [
    "What does the following line of code do?"
   ]
  },
  {
   "cell_type": "code",
   "execution_count": 550,
   "metadata": {},
   "outputs": [
    {
     "name": "stdout",
     "output_type": "stream",
     "text": [
      "4.625\n"
     ]
    }
   ],
   "source": [
    "print(sum(numbers)/len(numbers))"
   ]
  },
  {
   "cell_type": "markdown",
   "metadata": {},
   "source": [
    "Iteration works much how one would expect."
   ]
  },
  {
   "cell_type": "code",
   "execution_count": 551,
   "metadata": {},
   "outputs": [
    {
     "name": "stdout",
     "output_type": "stream",
     "text": [
      "4\n",
      "3\n",
      "5\n",
      "6\n",
      "7\n",
      "2\n",
      "9\n",
      "1\n"
     ]
    }
   ],
   "source": [
    "for item in numbers:\n",
    "    print(item)"
   ]
  },
  {
   "cell_type": "markdown",
   "metadata": {},
   "source": [
    "#### Copying contents of a list and conditionals\n",
    "Remember there is nothing saying a list has to be created with stuff in it. "
   ]
  },
  {
   "cell_type": "code",
   "execution_count": 552,
   "metadata": {},
   "outputs": [
    {
     "name": "stdout",
     "output_type": "stream",
     "text": [
      "['Hello', 'There', 'Peeps', 'Hope', \"You're\", 'Well']\n",
      "[]\n",
      "After loop:\n",
      "['Hello', 'There', 'Peeps', 'Hope', \"You're\", 'Well']\n"
     ]
    }
   ],
   "source": [
    "first = [\"Hello\", \"There\", \"Peeps\", \"Hope\", \"You're\", \"Well\"]\n",
    "\n",
    "second = []\n",
    "\n",
    "print(first)\n",
    "print(second)\n",
    "\n",
    "for item in first:\n",
    "    if item not in second: # not in checks for presence in a list\n",
    "        second.append(item)\n",
    "print(\"After loop:\")\n",
    "print(second)\n",
    "        "
   ]
  },
  {
   "cell_type": "markdown",
   "metadata": {},
   "source": [
    "It is also common to filter out things from lists based on other criteria. Let's filter out the longest words in the the list."
   ]
  },
  {
   "cell_type": "code",
   "execution_count": 553,
   "metadata": {},
   "outputs": [
    {
     "name": "stdout",
     "output_type": "stream",
     "text": [
      "['Hope', 'Well']\n"
     ]
    }
   ],
   "source": [
    "first = [\"Hello\", \"There\", \"Peeps\", \"Hope\", \"You're\", \"Well\"]\n",
    "second = []\n",
    "\n",
    "for item in first:\n",
    "    if len(item) <= 4:\n",
    "        second.append(item)\n",
    "print(second)"
   ]
  },
  {
   "cell_type": "markdown",
   "metadata": {},
   "source": [
    "### Intro to list comprehensions\n",
    "\n",
    "These don't appear in Perl, but they are neat and a very \"Pythonic\" idea (though Python didn't invent them). Consider the above code where we filter for len() in the items. Python provides a synatx to consolidate all tha logic into to one, easy to read lines. \n"
   ]
  },
  {
   "cell_type": "code",
   "execution_count": 554,
   "metadata": {},
   "outputs": [
    {
     "name": "stdout",
     "output_type": "stream",
     "text": [
      "['Hope', 'Well']\n"
     ]
    }
   ],
   "source": [
    "first = [\"Hello\", \"There\", \"Peeps\", \"Hope\", \"You're\", \"Well\"]\n",
    "\n",
    "second = [item for item in first if len(item) <= 4] # 'item for item in first' comes from 'for item in first:'\n",
    "\n",
    "print(second)"
   ]
  },
  {
   "cell_type": "markdown",
   "metadata": {},
   "source": [
    "There are other things that we can do with these but they are beyond the scope of a crash couse."
   ]
  },
  {
   "cell_type": "markdown",
   "metadata": {},
   "source": [
    "## Storing Paired Data: Dicts and Hashes"
   ]
  },
  {
   "cell_type": "markdown",
   "metadata": {},
   "source": [
    "When I am test driving a new language, one of the first things I look up is how to store paired data. Python's calls them dictionarys where Perl calls them hashes, but the do the same thing. In Python, they use the {} for their definition. We will look at a more in-context example."
   ]
  },
  {
   "cell_type": "code",
   "execution_count": 555,
   "metadata": {},
   "outputs": [],
   "source": [
    "residues = { \"A\": 89.000,  \"R\": 174.000, \"N\": 132.000, \"D\": 133.000, \"C\": 121.000, \n",
    "             \"Q\": 146.000, \"E\": 147.000, \"G\": 75.000,  \"H\": 155.000, \"I\": 131.000,\n",
    "             \"L\": 131.000, \"K\": 146.000, \"M\": 149.000, \"F\": 165.000, \"P\": 115.000, \n",
    "             \"S\": 105.000, \"T\": 119.000, \"W\": 204.000, \"Y\": 181.000, \"V\": 117.000 }"
   ]
  },
  {
   "cell_type": "markdown",
   "metadata": {},
   "source": [
    "In Perl, this would look something like this:"
   ]
  },
  {
   "cell_type": "markdown",
   "metadata": {},
   "source": [
    "(See Perl 8)"
   ]
  },
  {
   "cell_type": "code",
   "execution_count": 556,
   "metadata": {},
   "outputs": [
    {
     "name": "stdout",
     "output_type": "stream",
     "text": [
      "89.0\n"
     ]
    }
   ],
   "source": [
    "# accesing:\n",
    "print(residues[\"A\"])"
   ]
  },
  {
   "cell_type": "code",
   "execution_count": 557,
   "metadata": {},
   "outputs": [
    {
     "name": "stdout",
     "output_type": "stream",
     "text": [
      "A 89.0\n",
      "R 174.0\n",
      "N 132.0\n",
      "D 133.0\n",
      "C 121.0\n",
      "Q 146.0\n",
      "E 147.0\n",
      "G 75.0\n",
      "H 155.0\n",
      "I 131.0\n",
      "L 131.0\n",
      "K 146.0\n",
      "M 149.0\n",
      "F 165.0\n",
      "P 115.0\n",
      "S 105.0\n",
      "T 119.0\n",
      "W 204.0\n",
      "Y 181.0\n",
      "V 117.0\n"
     ]
    }
   ],
   "source": [
    "# iterating\n",
    "for item in residues:\n",
    "    print(item, residues[item])"
   ]
  },
  {
   "cell_type": "markdown",
   "metadata": {},
   "source": [
    "We've seen enough Python to try to do something useful with it. This script will find the mass of a peptide and, in doing so, bring together some ideas from before into context:\n"
   ]
  },
  {
   "cell_type": "code",
   "execution_count": 558,
   "metadata": {},
   "outputs": [
    {
     "name": "stdout",
     "output_type": "stream",
     "text": [
      "C 121.0\n",
      "H 155.0\n",
      "E 147.0\n",
      "R 174.0\n",
      "R 174.0\n",
      "Y 181.0\n",
      "952.0\n"
     ]
    }
   ],
   "source": [
    "residues = { \"A\": 89.000,  \"R\": 174.000, \"N\": 132.000, \"D\": 133.000, \"C\": 121.000, \n",
    "             \"Q\": 146.000, \"E\": 147.000, \"G\": 75.000,  \"H\": 155.000, \"I\": 131.000,\n",
    "             \"L\": 131.000, \"K\": 146.000, \"M\": 149.000, \"F\": 165.000, \"P\": 115.000, \n",
    "             \"S\": 105.000, \"T\": 119.000, \"W\": 204.000, \"Y\": 181.000, \"V\": 117.000 }\n",
    "\n",
    "# you can spell the word \"Cherry\" with amino acids, in case you were wondering.\n",
    "peptide = \"CHERRY\"   \n",
    "\n",
    "# define a counter\n",
    "mass = 0\n",
    "\n",
    "# iterate though and add the value for each key. \n",
    "for res in peptide:\n",
    "    mass += residues[res]\n",
    "    print(res, residues[res])\n",
    "    \n",
    "print(mass)\n",
    "    "
   ]
  },
  {
   "cell_type": "markdown",
   "metadata": {},
   "source": [
    "### Defining functions \n",
    "\n",
    "What Perl calls subs (subroutines) Python calls functions, but the theory behind them is similar. Python requires you to specify the variables that you will pass, though, where Perl accepts and array by default. Not that functions use the indentation convention."
   ]
  },
  {
   "cell_type": "code",
   "execution_count": 559,
   "metadata": {},
   "outputs": [
    {
     "name": "stdout",
     "output_type": "stream",
     "text": [
      "11\n"
     ]
    }
   ],
   "source": [
    "# functions are create with the \"def\" (define) keyword. \n",
    "\n",
    "# this reads as \"Define a function called 'add_one' that acts on 'x'\n",
    "\n",
    "def add_one(x):\n",
    "    return x + 1\n",
    "\n",
    "print(add_one(10))"
   ]
  },
  {
   "cell_type": "markdown",
   "metadata": {},
   "source": [
    "In Perl, this would probably look something like this. "
   ]
  },
  {
   "cell_type": "markdown",
   "metadata": {},
   "source": [
    "\n",
    "\n",
    "(See Perl 9)"
   ]
  },
  {
   "cell_type": "markdown",
   "metadata": {},
   "source": [
    "#### Making our function more flexible\n",
    "\n",
    "What if we wanted this function to be able to add or subtract by one?"
   ]
  },
  {
   "cell_type": "code",
   "execution_count": 560,
   "metadata": {},
   "outputs": [
    {
     "name": "stdout",
     "output_type": "stream",
     "text": [
      "11\n",
      "9\n"
     ]
    }
   ],
   "source": [
    "def change_by_one(x, operation):       # add an argument for what operation to perform\n",
    "    if operation == \"Add\":\n",
    "        return x + 1\n",
    "    if operation == \"Sub\":\n",
    "        return x - 1\n",
    "\n",
    "print(change_by_one(10, \"Add\"))\n",
    "print(change_by_one(10, \"Sub\"))\n",
    "    "
   ]
  },
  {
   "cell_type": "markdown",
   "metadata": {},
   "source": [
    "#### What if we want a default condition?\n",
    "Adding and argument to the function defintion will set it as the default if the user doesn't specify\n"
   ]
  },
  {
   "cell_type": "code",
   "execution_count": 561,
   "metadata": {},
   "outputs": [
    {
     "name": "stdout",
     "output_type": "stream",
     "text": [
      "11\n",
      "9\n"
     ]
    }
   ],
   "source": [
    "def change_by_one(x, operation = \"Add\"):       # add an argument for what operation to perform\n",
    "    if operation == \"Add\":\n",
    "        return x + 1\n",
    "    if operation == \"Sub\":\n",
    "        return x - 1\n",
    "\n",
    "print(change_by_one(10,))           # notice we didn't pass an argument, it just remebered the default above\n",
    "print(change_by_one(10, \"Sub\"))\n"
   ]
  },
  {
   "cell_type": "markdown",
   "metadata": {},
   "source": [
    "#### Customizing the return type\n",
    "Rember you can manipulate the return type before returning it"
   ]
  },
  {
   "cell_type": "code",
   "execution_count": 562,
   "metadata": {},
   "outputs": [
    {
     "name": "stdout",
     "output_type": "stream",
     "text": [
      "11.0\n"
     ]
    }
   ],
   "source": [
    "def change_by_one(x, operation = \"Add\"):       # add an argument for what operation to perform\n",
    "    if operation == \"Add\":\n",
    "        return float(x + 1)\n",
    "    if operation == \"Sub\":\n",
    "        return float(x - 1)\n",
    "\n",
    "print(change_by_one(10,)) "
   ]
  },
  {
   "cell_type": "markdown",
   "metadata": {},
   "source": [
    "### File I/O\n"
   ]
  },
  {
   "cell_type": "markdown",
   "metadata": {},
   "source": [
    "Python doesn't use handles they way Perl does, you simply call functions to read and write files.\n",
    "It also uses letters instead of the \">\" \"<\" convention for in and out. This will read a small included test file, create an outfile (if you open a file that doesn't exist it makes it), and write it into the file as upper case characters."
   ]
  },
  {
   "cell_type": "code",
   "execution_count": 563,
   "metadata": {},
   "outputs": [
    {
     "name": "stdout",
     "output_type": "stream",
     "text": [
      "Here is the first line\n",
      "\n",
      "Here is the second\n",
      "\n",
      "Here is the third\n",
      "\n",
      "This is the final line \n",
      "\n"
     ]
    }
   ],
   "source": [
    "infile = open(\"test_file.txt\", \"r\").readlines() # The \"r\" stands for \"read\"\n",
    "                                                # this splits it into lines instead of reading the file as \n",
    "                                                # one giant object\n",
    "for line in infile:\n",
    "    print(line)\n",
    "\n",
    "outfile = open(\"test_out.txt\", \"w\")             # The \"w\" stand for water buffalo. Just kidding it stands for write\n",
    "\n",
    "for line in infile:\n",
    "    outfile.write(line.upper())\n",
    "outfile.close()"
   ]
  },
  {
   "cell_type": "markdown",
   "metadata": {},
   "source": [
    "### The With/As idiom\n"
   ]
  },
  {
   "cell_type": "markdown",
   "metadata": {},
   "source": [
    "Python provides a \"with\" keyword for working with files. It uses default arguments like the for loop to allow the user to read and write to a file in a compact, readable block. This simply creates \"incoming\" and \"outgoing\" variables based on opening files and write one file to another. "
   ]
  },
  {
   "cell_type": "code",
   "execution_count": 564,
   "metadata": {},
   "outputs": [],
   "source": [
    "with open(\"test_file.txt\", \"r\") as incoming, open(\"with_out.txt\", \"w\") as outgoing:\n",
    "    for line in incoming:\n",
    "        outgoing.write(line)\n",
    "        "
   ]
  },
  {
   "cell_type": "markdown",
   "metadata": {},
   "source": [
    "### Exception Handling\n",
    "\n",
    "We haven't covered this in class, but I will throw it in. In the case you aren't sure what information you're getting you can test for TypeError and tell the program what to do if it happens instead of crashing. Here is a simple example. Note that there are lots of error types that this could be used for. Like other languges, the keywords and \"try\" and \"except\"."
   ]
  },
  {
   "cell_type": "code",
   "execution_count": 565,
   "metadata": {},
   "outputs": [
    {
     "name": "stdout",
     "output_type": "stream",
     "text": [
      "You can't add a character to a number!\n"
     ]
    }
   ],
   "source": [
    "x = \"1\"\n",
    "y = 2\n",
    "\n",
    "# we try to add them together but there is an error so we divert to printing a message\n",
    "try:\n",
    "    x + y\n",
    "except TypeError:\n",
    "    print(\"You can't add a character to a number!\")\n",
    "    \n"
   ]
  },
  {
   "cell_type": "markdown",
   "metadata": {},
   "source": [
    "A slightly more complicated example would be if we had a refference of names, first in last. We could then loop through a separate list of names and print last names if they were in the dict. Without exception handling, if we came accross a name that wasn't in it, it would crash."
   ]
  },
  {
   "cell_type": "code",
   "execution_count": 566,
   "metadata": {},
   "outputs": [
    {
     "name": "stdout",
     "output_type": "stream",
     "text": [
      "Sweeney\n",
      "Donald : Not found\n",
      "Stankiewicz\n",
      "Parikh\n",
      "Roesel\n"
     ]
    }
   ],
   "source": [
    "# dictionary of first and last names\n",
    "dictionary = {\"Thadryan\": \"Sweeney\", \"Sara\":\"Stankiewicz\", \"Ashmi\": \"Parikh\", \"Charles\":\"Roesel\"}\n",
    "\n",
    "names = [\"Thadryan\", \"Donald\", \"Sara\", \"Ashmi\", \"Charles\"]\n",
    "for item in names:\n",
    "    try:\n",
    "        print(dictionary[item])\n",
    "    except KeyError:\n",
    "        print(item, \": Not found\")\n"
   ]
  },
  {
   "cell_type": "markdown",
   "metadata": {},
   "source": [
    "### The notorious OOP: A TINY introduction to object oriented programming with Python\n",
    "\n",
    "This is a subject worth mentioning but we haven't really done it in class and it is a whole sub disciple in and off itself. Still, we'll take a quick stab at it and why someone might do it. "
   ]
  },
  {
   "cell_type": "markdown",
   "metadata": {},
   "source": [
    "\n",
    "Let's say we are coding a simple adventure game where the players can choose to be wizard, fighters, rouges, or the like. We are happily coding along the functions that make up a fighter and realize that a lot of the things they have and do are the same. Is there a way we can keep from repeating ourselves? In short, yes. We realize in coding our heros that they all have a name, health points, and a level (how advanced they are in terms of the game - I am assuming the reader has seen some sort of RPG before). Coding all of those things is repetative, so we decide we can make a new \"class\" (in OOP a class is a type of data structure, and an individual occurence of that class is called an object). We decide to make a \"hero\" class, and then all the heros will be slightly modified versions of the class. In terms of the coding, a class is made up of a group of functions (sometimes functions that belong to a class are called \"methods\" but there is no actual difference in what it does - a method is just a function in a class). Let's take a look:"
   ]
  },
  {
   "cell_type": "code",
   "execution_count": 567,
   "metadata": {},
   "outputs": [],
   "source": [
    "# the class keyword is used like the def. We name it \"hero\" and specify that it is an object\n",
    "# in the parenthesis. The self word explicity states that the say_hello() belongs to the \"self\" - \n",
    "# the object in questions \n",
    "\n",
    "class hero(object):\n",
    "    def say_hello(self):\n",
    "        print(\"Say Hello\")"
   ]
  },
  {
   "cell_type": "markdown",
   "metadata": {},
   "source": [
    "Using our object: Without going full \"public static void main\" on you, we will say that you have to initialize and object before you can use it."
   ]
  },
  {
   "cell_type": "code",
   "execution_count": 568,
   "metadata": {},
   "outputs": [
    {
     "name": "stdout",
     "output_type": "stream",
     "text": [
      "Say Hello\n"
     ]
    }
   ],
   "source": [
    "# this is how you initialize an object\n",
    "warrior = hero()\n",
    "\n",
    "# the warrior uses the . syntax to do things warriors do. In this case say hi\n",
    "# this syntax should look familiar \n",
    "warrior.say_hello()"
   ]
  },
  {
   "cell_type": "markdown",
   "metadata": {},
   "source": [
    "#### Enpanding the class\n",
    "We will now expand the class slightly"
   ]
  },
  {
   "cell_type": "code",
   "execution_count": 569,
   "metadata": {},
   "outputs": [
    {
     "name": "stdout",
     "output_type": "stream",
     "text": [
      "Hello\n",
      "Goodbye\n"
     ]
    }
   ],
   "source": [
    "class hero(object):\n",
    "\n",
    "    def say_hello(self):\n",
    "        print(\"Hello\")\n",
    "    \n",
    "    def say_goodbye(self):\n",
    "        print(\"Goodbye\")\n",
    "        \n",
    "new_warrior = hero()\n",
    "\n",
    "new_warrior.say_hello()\n",
    "\n",
    "new_warrior.say_goodbye()"
   ]
  },
  {
   "cell_type": "markdown",
   "metadata": {},
   "source": [
    "#### A more realistic class - constructors\n",
    "\n",
    "A constructor is a method that is called when an object created that defines values passed by the user. This allows us to start our hero off with things like hit points and a name. The constructor uses a special syntax.\n",
    "\n",
    "    def __init__\n",
    "    \n",
    "When we are defining or traits of an object, we use the self keyword to say that the incoming data is for this object."
   ]
  },
  {
   "cell_type": "code",
   "execution_count": 570,
   "metadata": {},
   "outputs": [
    {
     "name": "stdout",
     "output_type": "stream",
     "text": [
      "Vic Mensa\n",
      "10\n"
     ]
    }
   ],
   "source": [
    "class hero(object):\n",
    "    \n",
    "    def __init__(self, name, health):     # tell the constructor to act on self, and expect a name and health\n",
    "        self.name = name                  # \"give this (self) object the name passed to it\"\n",
    "        self.health = health    \n",
    "    \n",
    "    def say_name(self):                   # we have to use the self keyword so it knows which objects name to print\n",
    "        print(self.name)\n",
    "        \n",
    "    def show_health(self):                # we can make a method for them to show their health\n",
    "        print(self.health)\n",
    "\n",
    "# create a hero named vic, pass the starting values for the contructor \n",
    "vic = hero(name = \"Vic Mensa\", health = 10)\n",
    "\n",
    "# vic introduces himself\n",
    "vic.say_name()\n",
    "\n",
    "# vic shows how many hp he has\n",
    "vic.show_health()"
   ]
  },
  {
   "cell_type": "markdown",
   "metadata": {},
   "source": [
    "#### Inheritance "
   ]
  },
  {
   "cell_type": "markdown",
   "metadata": {},
   "source": [
    "Now let's say we we wanted to make a wizard, not a blank hero. We can do this in an efficient way by using \"inheritance\". Using this technique, and new class gets traits from the old one. We pass the class it is inheriting from instead of the object keyword. We then can add to the new, class and it will have all the abilities from the old one and whatever we add to the new one. "
   ]
  },
  {
   "cell_type": "code",
   "execution_count": 571,
   "metadata": {},
   "outputs": [],
   "source": [
    "class wizard(hero):\n",
    "    \n",
    "    def brag(self):\n",
    "        print(\"Did I mention I am a wizard?\")"
   ]
  },
  {
   "cell_type": "markdown",
   "metadata": {},
   "source": [
    "This class looks very small and we didn't do much in order to make it, but watch what we can do:\n"
   ]
  },
  {
   "cell_type": "code",
   "execution_count": 572,
   "metadata": {},
   "outputs": [
    {
     "name": "stdout",
     "output_type": "stream",
     "text": [
      "Did I mention I am a wizard?\n",
      "Avery\n",
      "8\n"
     ]
    }
   ],
   "source": [
    "avery = wizard(name = \"Avery\", health = 8)\n",
    "\n",
    "# we gave the wizard class a brag function\n",
    "avery.brag()\n",
    "\n",
    "# we didn't give it anything else though, and yet:\n",
    "avery.say_name()\n",
    "\n",
    "# and the other method...\n",
    "avery.show_health()"
   ]
  },
  {
   "cell_type": "markdown",
   "metadata": {},
   "source": [
    "Avery has all the abilities of the generic hero class and the brag ability from the wizard class."
   ]
  },
  {
   "cell_type": "markdown",
   "metadata": {},
   "source": [
    "This will allow us to create all the different types of hero by making minor changes to the hero class."
   ]
  },
  {
   "cell_type": "markdown",
   "metadata": {},
   "source": [
    "#### Polymorphism \n",
    "Polymorphism allows us to make small changes to things that we inherit. Let's say our wizard is so excited to be a wizard, they include it as part of their introduction."
   ]
  },
  {
   "cell_type": "code",
   "execution_count": 573,
   "metadata": {},
   "outputs": [],
   "source": [
    "class wizard(hero):\n",
    "    \n",
    "    def say_hello(self):    # notice we already have this method in the other class\n",
    "        print(\"Hello, I'm\", self.name, \"the wizard\")\n",
    "    \n",
    "    def brag(self):\n",
    "        print(\"Did I mention I am a wizard?\")\n",
    "        "
   ]
  },
  {
   "cell_type": "markdown",
   "metadata": {},
   "source": [
    "Let's see polymorphism in action."
   ]
  },
  {
   "cell_type": "code",
   "execution_count": 574,
   "metadata": {},
   "outputs": [
    {
     "name": "stdout",
     "output_type": "stream",
     "text": [
      "Hello, I'm Flatbush the wizard\n"
     ]
    }
   ],
   "source": [
    "# make a new wizard\n",
    "flatbush = wizard(\"Flatbush\", health = 8)\n",
    "\n",
    "# we call the cay_hello() method\n",
    "flatbush.say_hello()"
   ]
  },
  {
   "cell_type": "markdown",
   "metadata": {},
   "source": [
    "This programming paradigm let's us make small changes to how our characer would behave. All we would have to do from here is make slight tweaks to them and write methods that reflect their traits"
   ]
  },
  {
   "cell_type": "markdown",
   "metadata": {},
   "source": [
    "### Python 3 vs 2\n",
    "\n",
    "Python 2 is sill a great langauge to learn, and there is a lot of legacy code written in it. Python 2.7 was the last update, and Python 3 is where the lanugage is going. There are very few syntactic difference. In practice, most scripts can be converted back to Python 2 by removing the parenthesis from the print statment,\n"
   ]
  },
  {
   "cell_type": "markdown",
   "metadata": {},
   "source": [
    "### Installing the notebooks\n",
    "\n",
    "Assuming that you have Python3\n",
    "\n",
    "terminal command:\n",
    "\n",
    "$ pip3 install jupyter\n",
    "\n",
    "You can then navigate to the directory you want to use the notebook in and type\n",
    "\n",
    "$ jupyter notebook\n",
    "\n",
    "Links to more detailed instructions and trouble shooting common problems:\n",
    "\n",
    "https://stackoverflow.com/questions/35313876/after-installing-with-pip-jupyter-command-not-found\n",
    "\n",
    "\n",
    "\n",
    "http://jupyter.readthedocs.io/en/latest/install.html\n"
   ]
  },
  {
   "cell_type": "markdown",
   "metadata": {},
   "source": [
    "Thanks for reading my guide! I hope this is helpfull. Please reach out to me at sweeney.th@husky.neu.edu with questions. "
   ]
  }
 ],
 "metadata": {
  "kernelspec": {
   "display_name": "Python 3",
   "language": "python",
   "name": "python3"
  },
  "language_info": {
   "codemirror_mode": {
    "name": "ipython",
    "version": 3
   },
   "file_extension": ".py",
   "mimetype": "text/x-python",
   "name": "python",
   "nbconvert_exporter": "python",
   "pygments_lexer": "ipython3",
   "version": "3.6.3"
  }
 },
 "nbformat": 4,
 "nbformat_minor": 2
}
