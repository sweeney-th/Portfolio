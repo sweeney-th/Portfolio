{
 "cells": [
  {
   "cell_type": "markdown",
   "metadata": {},
   "source": [
    "# What can we learn from this FASTA file?\n",
    "### Developing some simple bioinformatic functions"
   ]
  },
  {
   "cell_type": "markdown",
   "metadata": {},
   "source": [
    "Firstly, let's get the sequence out of the file. It's pretty simple, but there are some things to watch out for, like headers and newlines. I like to double check my sequence length with UniProt before proceeding to be safe."
   ]
  },
  {
   "cell_type": "code",
   "execution_count": 1,
   "metadata": {},
   "outputs": [
    {
     "name": "stdout",
     "output_type": "stream",
     "text": [
      "MAPSFTARIQLFLLRALGFLIGLVGRAALVLGGPKFASKTPRPVTEPLLLLSGMQLAKLIRQRKVKCIDVVQAYINRIKDVNPMINGIVKYRFEEAMKEAHAVDQKLAEKQEDEATLENKWPFLGVPLTVKEAFQLQGMPNSSGLMNRRDAIAKTDATVVALLKGAGAIPLGITNCSELCMWYESSNKIYGRSNNPYDLQHIVGGSSGGEGCTLAAACSVIGVGSDIGGSIRMPAFFNGIFGHKPSPGVVPNKGQFPLAVGAQELFLCTGPMCRYAEDLAPMLKVMAGPGIKRLKLDTKVHLKDLKFYWMEHDGGSFLMSKVDQDLIMTQKKVVVHLETILGASVQHVKLKKMKYSFQLWIAMMSAKGHDGKEPVKFVDLLGDHGKHVSPLWELIKWCLGLSVYTIPSIGLALLEEKLRYSNEKYQKFKAVEESLRKELVDMLGDDGVFLYPSHPTVAPKHHVPLTRPFNFAYTGVFSALGLPVTQCPLGLNAKGLPLGIQVVAGPFNDHLTLAVAQYLEKTFGGWVCPGKF\n"
     ]
    }
   ],
   "source": [
    "# get the sequence and read from after the header line\n",
    "def get_sequence(infile, header = False):\n",
    "    intake = open(infile).readlines()\n",
    "    sequence = \"\".join(intake[1:]).replace(\"\\n\", \"\") # join all strings after header, remove newlines\n",
    "    return sequence\n",
    "  \n",
    "faah2 = get_sequence('faah2.fasta')\n",
    "print(faah2)"
   ]
  },
  {
   "cell_type": "markdown",
   "metadata": {},
   "source": [
    "### What can we learn about its composition?\n",
    "We'll start by taking a look at the amino acid counts"
   ]
  },
  {
   "cell_type": "code",
   "execution_count": 2,
   "metadata": {},
   "outputs": [
    {
     "name": "stdout",
     "output_type": "stream",
     "text": [
      "Q count is 19\n",
      "W count is 7\n",
      "E count is 25\n",
      "R count is 17\n",
      "T count is 20\n",
      "Y count is 14\n",
      "I count is 25\n",
      "P count is 32\n",
      "A count is 41\n",
      "S count is 27\n",
      "D count is 21\n",
      "F count is 24\n",
      "G count is 51\n",
      "H count is 14\n",
      "K count is 44\n",
      "L count is 65\n",
      "C count is 10\n",
      "V count is 42\n",
      "N count is 16\n",
      "M count is 18\n"
     ]
    }
   ],
   "source": [
    "def residue_counts(sequence, percent = False):\n",
    "    aa_residues = [\n",
    "    'Q','W','E','R','T',\n",
    "    'Y','I','P','A','S',\n",
    "    'D','F','G','H','K',\n",
    "    'L','C','V','N','M' ]\n",
    "    # iterate through residues and increment counter for total and individual residues\n",
    "    total_length = 0\n",
    "    for residue in aa_residues:\n",
    "        count = sequence.count(residue)\n",
    "        total_length += count\n",
    "        if percent == False: # check optional arguments for precents\n",
    "            print(residue, \"count is\", count)\n",
    "        else:\n",
    "            percentage = round(count/len(sequence) * 100, 2)\n",
    "            print(residue, \"count is\", str(percentage) + \"%\")\n",
    "    # Let's make sure we counted all the residues;\n",
    "    # this will kick an error message if we didn't\n",
    "    assert total_length == len(sequence)\n",
    "residue_counts(faah2)\n"
   ]
  },
  {
   "cell_type": "markdown",
   "metadata": {},
   "source": [
    "I've also included an argument to return the values as percents. I set it with the default value of False, so we don't have to remember to give it a value if we won't be using it"
   ]
  },
  {
   "cell_type": "code",
   "execution_count": 3,
   "metadata": {},
   "outputs": [
    {
     "name": "stdout",
     "output_type": "stream",
     "text": [
      "Q count is 3.57%\n",
      "W count is 1.32%\n",
      "E count is 4.7%\n",
      "R count is 3.2%\n",
      "T count is 3.76%\n",
      "Y count is 2.63%\n",
      "I count is 4.7%\n",
      "P count is 6.02%\n",
      "A count is 7.71%\n",
      "S count is 5.08%\n",
      "D count is 3.95%\n",
      "F count is 4.51%\n",
      "G count is 9.59%\n",
      "H count is 2.63%\n",
      "K count is 8.27%\n",
      "L count is 12.22%\n",
      "C count is 1.88%\n",
      "V count is 7.89%\n",
      "N count is 3.01%\n",
      "M count is 3.38%\n"
     ]
    }
   ],
   "source": [
    "# show usage with percent argument\n",
    "residue_counts(faah2, percent = True)"
   ]
  },
  {
   "cell_type": "markdown",
   "metadata": {},
   "source": [
    "Now let's throw in some chemistry and see what we can come up with. This version of the function will allow the user to choose between hydrophobic and hydrophilic residues, and to control the number of places after the decimal to round to."
   ]
  },
  {
   "cell_type": "code",
   "execution_count": 4,
   "metadata": {},
   "outputs": [
    {
     "name": "stdout",
     "output_type": "stream",
     "text": [
      "Percent Hydrophiles: 20.11\n",
      "Percent Hydrophobes: 44.361\n"
     ]
    }
   ],
   "source": [
    "def solubility(sequence, hydrophiles = True, round_to = 2):\n",
    "    # hydrophiles vs hydrophobes\n",
    "    if hydrophiles == True:\n",
    "        residues = [\"D\", \"E\", \"R\", \"K\"] # hydrophiles\n",
    "    if hydrophiles == False:\n",
    "        residues = ['L','A','F','Y','W','I', 'M','V'] # hydrophobes\n",
    "    # for finding percent\n",
    "    total_residue_count = 0\n",
    "    # count each of them in the sequence\n",
    "    for aa in residues:\n",
    "        number_of_residues = sequence.count(aa)\n",
    "        total_residue_count += number_of_residues\n",
    "    hydrophilicity_percentage = total_residue_count / len(sequence) * 100\n",
    "    return round(hydrophilicity_percentage, round_to)\n",
    "\n",
    "sol_test_philes = solubility(faah2)\n",
    "print('Percent Hydrophiles:', sol_test_philes)\n",
    "\n",
    "# show using optional arguments \n",
    "sol_test_phobes = solubility(faah2, hydrophiles = False, round_to = 3)\n",
    "print('Percent Hydrophobes:', sol_test_phobes)"
   ]
  },
  {
   "cell_type": "markdown",
   "metadata": {},
   "source": [
    "### A good prototype, but..."
   ]
  },
  {
   "cell_type": "markdown",
   "metadata": {},
   "source": [
    "What is neat about this version of the function is it lets the user call the same function to find counts for high or low solubility. The drawback is that the residue lists are hardcoded into the funciton. You might see a different list from lab to lab or project to project depending on the criteria or cutoff they use in determining hydrophobicity, etc. Let's give them control over the residues to count with a more generic function combining some of the tools in the previous two. It also makes our code more concise."
   ]
  },
  {
   "cell_type": "code",
   "execution_count": 5,
   "metadata": {},
   "outputs": [
    {
     "name": "stdout",
     "output_type": "stream",
     "text": [
      "D count is 21\n",
      "D count is 1\n"
     ]
    }
   ],
   "source": [
    "def display_residue_counts(sequence, aa_residues = ['D','E','R','K'],\n",
    "                           percent = False, round_to = 2):\n",
    "    target_count = 0\n",
    "    for residue in aa_residues:\n",
    "        # again using for percent\n",
    "        count = sequence.count(residue)\n",
    "        target_count += count\n",
    "        if percent == False:\n",
    "            print(residue, \"count is\", count)\n",
    "        else:\n",
    "            percentage = round(count/len(sequence) * 100, round_to)\n",
    "            print(residue, \"count is\", str(percentage) + \"%\")\n",
    "        return target_count #for qc purposes\n",
    "\n",
    "# Declare list outside the function to keep it from getting hideous\n",
    "my_residue_list = ['D','E','K','R','H']\n",
    "soluble_res = display_residue_counts(faah2, aa_residues = my_residue_list)\n",
    "\n",
    "assert display_residue_counts('THADRYAN') == 1"
   ]
  },
  {
   "cell_type": "code",
   "execution_count": 6,
   "metadata": {},
   "outputs": [
    {
     "name": "stdout",
     "output_type": "stream",
     "text": [
      "L count is 12.218%\n"
     ]
    }
   ],
   "source": [
    "# show with another list and different options\n",
    "my_phobic_list = ['L', 'A','F','Y','W','I','M','C','V']\n",
    "insoluble_res = display_residue_counts(faah2, aa_residues = my_phobic_list,\n",
    "                                       percent = True, round_to = 3)"
   ]
  },
  {
   "cell_type": "markdown",
   "metadata": {},
   "source": [
    "# What next?\n",
    "We now have a handy function for displaying data. If we want to return a value for calculations, we can use a similar but distinct function. Yes, we could make displaying and\\ argument in the other one, but to keep it easy to read and maintain, let's compartmentalize"
   ]
  },
  {
   "cell_type": "code",
   "execution_count": 7,
   "metadata": {},
   "outputs": [],
   "source": [
    "def residue_percent(sequence, aa_residues = ['D','E','R','K'], round_to = 2):\n",
    "    total_count = 0\n",
    "    for residue in aa_residues:\n",
    "        count = sequence.count(residue)\n",
    "        total_count += count\n",
    "    percentage = round(total_count/len(sequence) * 100, round_to)\n",
    "    return percentage\n",
    "    \n",
    "assert residue_percent('DERK') == 100"
   ]
  },
  {
   "cell_type": "markdown",
   "metadata": {},
   "source": [
    " # Getting more practical: which kmers to choose for sythesis?\n",
    "Let's say we've been funded to synthesize five 15mers from this protein for our research project. We aren't sure which ones to choose, are even how many 15mers there are in it. How can we find good targets? First off, let's see what we are working with. This function will find kmers for us."
   ]
  },
  {
   "cell_type": "code",
   "execution_count": 8,
   "metadata": {},
   "outputs": [
    {
     "name": "stdout",
     "output_type": "stream",
     "text": [
      "518\n",
      "['MAPSFTARIQLFLLR', 'APSFTARIQLFLLRA', 'PSFTARIQLFLLRAL', 'SFTARIQLFLLRALG', 'FTARIQLFLLRALGF', 'TARIQLFLLRALGFL', 'ARIQLFLLRALGFLI', 'RIQLFLLRALGFLIG', 'IQLFLLRALGFLIGL', 'QLFLLRALGFLIGLV']\n"
     ]
    }
   ],
   "source": [
    "def kmers(kmer_length, sequence):\n",
    "    # initialize 'window' to slide along sequence \n",
    "    start = 0\n",
    "    kmer_end = kmer_length\n",
    "    sequence_end = len(sequence)\n",
    "    # store results in list\n",
    "    kmer_pool = []\n",
    "    # while the window isn't sliding off the end, keep going by one\n",
    "    while start + kmer_length <= sequence_end:\n",
    "        kmer = sequence[start:kmer_end]\n",
    "        kmer_pool.append(kmer)\n",
    "        start += 1\n",
    "        kmer_end += 1\n",
    "    return kmer_pool\n",
    "samples = kmers(15, faah2)\n",
    "\n",
    "# the length of the list will tell us how many there are \n",
    "print(len(samples))\n",
    "\n",
    "# let's peek are the first ten to see we're on track\n",
    "print(samples[:10])"
   ]
  },
  {
   "cell_type": "markdown",
   "metadata": {},
   "source": [
    "### QC'ing ourselves\n",
    "Before we send any requisition orders over to the wetlab, we should check that we are reading these right. We can fact check outselves like this..."
   ]
  },
  {
   "cell_type": "code",
   "execution_count": 9,
   "metadata": {},
   "outputs": [
    {
     "name": "stdout",
     "output_type": "stream",
     "text": [
      "532\n"
     ]
    }
   ],
   "source": [
    "# We know the length of the protein\n",
    "length = len(faah2)\n",
    "print(length)\n",
    "\n",
    "# So we know it is one 532mer long, right?\n",
    "assert len(kmers(532, faah2)) == 1\n",
    "\n",
    "# And that would also mean that it can be thought of as 532 1mers\n",
    "assert len(kmers(1, faah2)) == 532"
   ]
  },
  {
   "cell_type": "markdown",
   "metadata": {},
   "source": [
    "### Narrowing it down...\n",
    "So knowing there are 518 kmers isn't super helpful in practice. Let's assume we want to find targets that would be fairly easy to sythesize and have a decent chance of being accsesible in the actual 3D structure of the protein. We'll use charge/solubility as a heuristic here, as those parts are easier to get into solution during synthesis and more likely to be oriented outward in the tertiary structure. \n"
   ]
  },
  {
   "cell_type": "code",
   "execution_count": 10,
   "metadata": {},
   "outputs": [
    {
     "name": "stdout",
     "output_type": "stream",
     "text": [
      "Ranked List:\n",
      "DQKLAEKQEDEATLE 53.33\n",
      "KLAEKQEDEATLENK 53.33\n",
      "KRLKLDTKVHLKDLK 53.33\n",
      "EEKLRYSNEKYQKFK 53.33\n",
      "EKYQKFKAVEESLRK 53.33\n",
      "KYQKFKAVEESLRKE 53.33\n",
      "KFKAVEESLRKELVD 53.33\n",
      "EESLRKELVDMLGDD 53.33\n",
      "KYRFEEAMKEAHAVD 46.67\n",
      "RFEEAMKEAHAVDQK 46.67\n",
      "KEAHAVDQKLAEKQE 46.67\n",
      "EAHAVDQKLAEKQED 46.67\n",
      "AHAVDQKLAEKQEDE 46.67\n",
      "HAVDQKLAEKQEDEA 46.67\n",
      "AVDQKLAEKQEDEAT 46.67\n",
      "VDQKLAEKQEDEATL 46.67\n",
      "QKLAEKQEDEATLEN 46.67\n",
      "LAEKQEDEATLENKW 46.67\n",
      "AEKQEDEATLENKWP 46.67\n",
      "EKQEDEATLENKWPF 46.67\n",
      "GIKRLKLDTKVHLKD 46.67\n",
      "IKRLKLDTKVHLKDL 46.67\n",
      "RLKLDTKVHLKDLKF 46.67\n",
      "LLEEKLRYSNEKYQK 46.67\n",
      "LEEKLRYSNEKYQKF 46.67\n",
      "EKLRYSNEKYQKFKA 46.67\n",
      "RYSNEKYQKFKAVEE 46.67\n",
      "NEKYQKFKAVEESLR 46.67\n",
      "YQKFKAVEESLRKEL 46.67\n",
      "QKFKAVEESLRKELV 46.67\n",
      "FKAVEESLRKELVDM 46.67\n",
      "KAVEESLRKELVDML 46.67\n",
      "VEESLRKELVDMLGD 46.67\n",
      "ESLRKELVDMLGDDG 46.67\n",
      "QLAKLIRQRKVKCID 40.0\n",
      "LAKLIRQRKVKCIDV 40.0\n",
      "AKLIRQRKVKCIDVV 40.0\n",
      "KLIRQRKVKCIDVVQ 40.0\n",
      "INGIVKYRFEEAMKE 40.0\n",
      "NGIVKYRFEEAMKEA 40.0\n",
      "GIVKYRFEEAMKEAH 40.0\n",
      "IVKYRFEEAMKEAHA 40.0\n",
      "VKYRFEEAMKEAHAV 40.0\n",
      "YRFEEAMKEAHAVDQ 40.0\n",
      "FEEAMKEAHAVDQKL 40.0\n",
      "EEAMKEAHAVDQKLA 40.0\n",
      "EAMKEAHAVDQKLAE 40.0\n",
      "AMKEAHAVDQKLAEK 40.0\n",
      "MKEAHAVDQKLAEKQ 40.0\n",
      "KQEDEATLENKWPFL 40.0\n"
     ]
    }
   ],
   "source": [
    "# get our 15mers\n",
    "sample_kmers = kmers(15, faah2)\n",
    "\n",
    "# store them in our dict with their percent\n",
    "kmer_dict = {}\n",
    "for sample in sample_kmers:\n",
    "    kmer_dict[sample] = residue_percent(sample) # remember this finds hydrophiles by default\n",
    "\n",
    "# sort our keys from highest to lowest based on thier percent  \n",
    "ranked_kmers = sorted(kmer_dict, key = kmer_dict.get, reverse = True)\n",
    "\n",
    "# examine the top 50\n",
    "print(\"Ranked List:\")\n",
    "for item in ranked_kmers[0:50]:\n",
    "    print(item, kmer_dict[item])"
   ]
  },
  {
   "cell_type": "markdown",
   "metadata": {},
   "source": [
    "If we would prefer a cutoff-based approach instead of ranked list, we could use a list comprehension with a conditional to generate a new list"
   ]
  },
  {
   "cell_type": "code",
   "execution_count": 11,
   "metadata": {},
   "outputs": [
    {
     "name": "stdout",
     "output_type": "stream",
     "text": [
      "['DQKLAEKQEDEATLE', 'KLAEKQEDEATLENK', 'KRLKLDTKVHLKDLK', 'EEKLRYSNEKYQKFK', 'EKYQKFKAVEESLRK', 'KYQKFKAVEESLRKE', 'KFKAVEESLRKELVD', 'EESLRKELVDMLGDD']\n"
     ]
    }
   ],
   "source": [
    "# use list comprehension with conditional \n",
    "solubility_over_45 = [item for item in kmer_dict if kmer_dict[item] > 45.0]\n",
    "\n",
    "# examine\n",
    "print(solubility_over_45)"
   ]
  }
 ],
 "metadata": {
  "kernelspec": {
   "display_name": "Python 3",
   "language": "python",
   "name": "python3"
  },
  "language_info": {
   "codemirror_mode": {
    "name": "ipython",
    "version": 3
   },
   "file_extension": ".py",
   "mimetype": "text/x-python",
   "name": "python",
   "nbconvert_exporter": "python",
   "pygments_lexer": "ipython3",
   "version": "3.7.4"
  }
 },
 "nbformat": 4,
 "nbformat_minor": 2
}
